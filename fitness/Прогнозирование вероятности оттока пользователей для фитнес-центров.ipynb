{
 "cells": [
  {
   "cell_type": "markdown",
   "metadata": {},
   "source": [
    "# Анализ взаимодействия с клиентами сети фитнес-центров «Культурист-датасаентист»"
   ]
  },
  {
   "cell_type": "markdown",
   "metadata": {},
   "source": [
    "Для проведения анализа используем существующий набор данных сети фитнес-центров «Культурист-датасаентист» в csv-файлах, чтобы определить, какова основная структура данных, выявить тенденции, проверить гипотезы и подготовить план действий по удержанию клиентов.  А именно: \n",
    " - научиться прогнозировать вероятность оттока (на уровне следующего месяца) для каждого клиента;\n",
    " - сформировать типичные портреты клиентов: выделить несколько наиболее ярких групп и охарактеризовать их основные свойства;\n",
    " - проанализировать основные признаки, наиболее сильно влияющие на отток;\n",
    " - сформулировать основные выводы и разработать рекомендации по повышению качества работы с клиентами:\n",
    "1) выделить целевые группы клиентов;\n",
    "2) предложить меры по снижению оттока;\n",
    "3) определить другие особенности взаимодействия с клиентами.\n",
    "\n",
    "Заказчик подготовил данные, которые содержат данные на месяц до оттока и факт оттока на определённый месяц.\n",
    "   \n",
    "Цель проекта: анализ данных интернет-магазина для уменьшения оттока клиентов.\n",
    "    \n",
    "Задачи проекта: исследовательский анализ данных (EDA), бинарная классификация и кластеризация объектов (клиентов), анализ результатов.\n",
    "\n",
    "Подготовка данных для процесса анализа включает в себя: извлечение данных, их очистка и преобразование. Следующий важный этап - изучение данных в графической или статистической репрезентации с целью поиска моделей или взаимосвязей, после чего приступим непосредственно к анализу, а затем к интерпретации результатов и принятию решения."
   ]
  },
  {
   "cell_type": "markdown",
   "metadata": {},
   "source": [
    "## Шаг 1. Загрузка данных"
   ]
  },
  {
   "cell_type": "code",
   "execution_count": 1,
   "metadata": {},
   "outputs": [],
   "source": [
    "# импорт библиотек\n",
    "import pandas as pd\n",
    "import seaborn as sns\n",
    "import matplotlib.pyplot as plt\n",
    "import warnings\n",
    "from sklearn.model_selection import train_test_split\n",
    "from sklearn.linear_model import LogisticRegression\n",
    "from sklearn.preprocessing import StandardScaler\n",
    "from sklearn.ensemble import RandomForestClassifier\n",
    "from sklearn.metrics import accuracy_score, precision_score, recall_score, f1_score\n",
    "from sklearn.cluster import KMeans\n",
    "import itertools\n",
    "from scipy.cluster.hierarchy import dendrogram, linkage "
   ]
  },
  {
   "cell_type": "code",
   "execution_count": 2,
   "metadata": {},
   "outputs": [],
   "source": [
    "# чтение файлов с данными и сохранение в gym_churn\n",
    "try: # яндексовский путь\n",
    "    gym_churn = pd.read_csv('/datasets/gym_churn.csv')\n",
    "except: # мой путь\n",
    "    gym_churn = pd.read_csv('/content/hypothesis.csv')"
   ]
  },
  {
   "cell_type": "markdown",
   "metadata": {},
   "source": [
    "## Шаг 2. Предобработка данных (исследовательский анализ данных (EDA))"
   ]
  },
  {
   "cell_type": "code",
   "execution_count": 3,
   "metadata": {},
   "outputs": [
    {
     "name": "stdout",
     "output_type": "stream",
     "text": [
      "(4000, 14)\n"
     ]
    }
   ],
   "source": [
    "# размер датасета\n",
    "print(gym_churn.shape)"
   ]
  },
  {
   "cell_type": "code",
   "execution_count": 4,
   "metadata": {},
   "outputs": [
    {
     "data": {
      "text/html": [
       "<div>\n",
       "<style scoped>\n",
       "    .dataframe tbody tr th:only-of-type {\n",
       "        vertical-align: middle;\n",
       "    }\n",
       "\n",
       "    .dataframe tbody tr th {\n",
       "        vertical-align: top;\n",
       "    }\n",
       "\n",
       "    .dataframe thead th {\n",
       "        text-align: right;\n",
       "    }\n",
       "</style>\n",
       "<table border=\"1\" class=\"dataframe\">\n",
       "  <thead>\n",
       "    <tr style=\"text-align: right;\">\n",
       "      <th></th>\n",
       "      <th>gender</th>\n",
       "      <th>Near_Location</th>\n",
       "      <th>Partner</th>\n",
       "      <th>Promo_friends</th>\n",
       "      <th>Phone</th>\n",
       "      <th>Contract_period</th>\n",
       "      <th>Group_visits</th>\n",
       "      <th>Age</th>\n",
       "      <th>Avg_additional_charges_total</th>\n",
       "      <th>Month_to_end_contract</th>\n",
       "      <th>Lifetime</th>\n",
       "      <th>Avg_class_frequency_total</th>\n",
       "      <th>Avg_class_frequency_current_month</th>\n",
       "      <th>Churn</th>\n",
       "    </tr>\n",
       "  </thead>\n",
       "  <tbody>\n",
       "    <tr>\n",
       "      <th>0</th>\n",
       "      <td>1</td>\n",
       "      <td>1</td>\n",
       "      <td>1</td>\n",
       "      <td>1</td>\n",
       "      <td>0</td>\n",
       "      <td>6</td>\n",
       "      <td>1</td>\n",
       "      <td>29</td>\n",
       "      <td>14.227470</td>\n",
       "      <td>5.0</td>\n",
       "      <td>3</td>\n",
       "      <td>0.020398</td>\n",
       "      <td>0.000000</td>\n",
       "      <td>0</td>\n",
       "    </tr>\n",
       "    <tr>\n",
       "      <th>1</th>\n",
       "      <td>0</td>\n",
       "      <td>1</td>\n",
       "      <td>0</td>\n",
       "      <td>0</td>\n",
       "      <td>1</td>\n",
       "      <td>12</td>\n",
       "      <td>1</td>\n",
       "      <td>31</td>\n",
       "      <td>113.202938</td>\n",
       "      <td>12.0</td>\n",
       "      <td>7</td>\n",
       "      <td>1.922936</td>\n",
       "      <td>1.910244</td>\n",
       "      <td>0</td>\n",
       "    </tr>\n",
       "    <tr>\n",
       "      <th>2</th>\n",
       "      <td>0</td>\n",
       "      <td>1</td>\n",
       "      <td>1</td>\n",
       "      <td>0</td>\n",
       "      <td>1</td>\n",
       "      <td>1</td>\n",
       "      <td>0</td>\n",
       "      <td>28</td>\n",
       "      <td>129.448479</td>\n",
       "      <td>1.0</td>\n",
       "      <td>2</td>\n",
       "      <td>1.859098</td>\n",
       "      <td>1.736502</td>\n",
       "      <td>0</td>\n",
       "    </tr>\n",
       "    <tr>\n",
       "      <th>3</th>\n",
       "      <td>0</td>\n",
       "      <td>1</td>\n",
       "      <td>1</td>\n",
       "      <td>1</td>\n",
       "      <td>1</td>\n",
       "      <td>12</td>\n",
       "      <td>1</td>\n",
       "      <td>33</td>\n",
       "      <td>62.669863</td>\n",
       "      <td>12.0</td>\n",
       "      <td>2</td>\n",
       "      <td>3.205633</td>\n",
       "      <td>3.357215</td>\n",
       "      <td>0</td>\n",
       "    </tr>\n",
       "    <tr>\n",
       "      <th>4</th>\n",
       "      <td>1</td>\n",
       "      <td>1</td>\n",
       "      <td>1</td>\n",
       "      <td>1</td>\n",
       "      <td>1</td>\n",
       "      <td>1</td>\n",
       "      <td>0</td>\n",
       "      <td>26</td>\n",
       "      <td>198.362265</td>\n",
       "      <td>1.0</td>\n",
       "      <td>3</td>\n",
       "      <td>1.113884</td>\n",
       "      <td>1.120078</td>\n",
       "      <td>0</td>\n",
       "    </tr>\n",
       "    <tr>\n",
       "      <th>5</th>\n",
       "      <td>1</td>\n",
       "      <td>1</td>\n",
       "      <td>0</td>\n",
       "      <td>0</td>\n",
       "      <td>1</td>\n",
       "      <td>1</td>\n",
       "      <td>1</td>\n",
       "      <td>34</td>\n",
       "      <td>450.743960</td>\n",
       "      <td>1.0</td>\n",
       "      <td>3</td>\n",
       "      <td>2.623477</td>\n",
       "      <td>2.637007</td>\n",
       "      <td>0</td>\n",
       "    </tr>\n",
       "    <tr>\n",
       "      <th>6</th>\n",
       "      <td>1</td>\n",
       "      <td>1</td>\n",
       "      <td>1</td>\n",
       "      <td>1</td>\n",
       "      <td>0</td>\n",
       "      <td>6</td>\n",
       "      <td>1</td>\n",
       "      <td>32</td>\n",
       "      <td>94.266389</td>\n",
       "      <td>6.0</td>\n",
       "      <td>2</td>\n",
       "      <td>1.138941</td>\n",
       "      <td>1.277242</td>\n",
       "      <td>0</td>\n",
       "    </tr>\n",
       "    <tr>\n",
       "      <th>7</th>\n",
       "      <td>0</td>\n",
       "      <td>1</td>\n",
       "      <td>0</td>\n",
       "      <td>0</td>\n",
       "      <td>1</td>\n",
       "      <td>1</td>\n",
       "      <td>0</td>\n",
       "      <td>30</td>\n",
       "      <td>217.786641</td>\n",
       "      <td>1.0</td>\n",
       "      <td>0</td>\n",
       "      <td>1.213502</td>\n",
       "      <td>1.049387</td>\n",
       "      <td>1</td>\n",
       "    </tr>\n",
       "    <tr>\n",
       "      <th>8</th>\n",
       "      <td>1</td>\n",
       "      <td>1</td>\n",
       "      <td>1</td>\n",
       "      <td>1</td>\n",
       "      <td>1</td>\n",
       "      <td>1</td>\n",
       "      <td>1</td>\n",
       "      <td>23</td>\n",
       "      <td>45.409909</td>\n",
       "      <td>1.0</td>\n",
       "      <td>1</td>\n",
       "      <td>1.106239</td>\n",
       "      <td>1.059333</td>\n",
       "      <td>0</td>\n",
       "    </tr>\n",
       "    <tr>\n",
       "      <th>9</th>\n",
       "      <td>0</td>\n",
       "      <td>1</td>\n",
       "      <td>0</td>\n",
       "      <td>0</td>\n",
       "      <td>1</td>\n",
       "      <td>1</td>\n",
       "      <td>0</td>\n",
       "      <td>31</td>\n",
       "      <td>65.310836</td>\n",
       "      <td>1.0</td>\n",
       "      <td>11</td>\n",
       "      <td>1.810852</td>\n",
       "      <td>1.951368</td>\n",
       "      <td>0</td>\n",
       "    </tr>\n",
       "  </tbody>\n",
       "</table>\n",
       "</div>"
      ],
      "text/plain": [
       "   gender  Near_Location  Partner  Promo_friends  Phone  Contract_period  \\\n",
       "0       1              1        1              1      0                6   \n",
       "1       0              1        0              0      1               12   \n",
       "2       0              1        1              0      1                1   \n",
       "3       0              1        1              1      1               12   \n",
       "4       1              1        1              1      1                1   \n",
       "5       1              1        0              0      1                1   \n",
       "6       1              1        1              1      0                6   \n",
       "7       0              1        0              0      1                1   \n",
       "8       1              1        1              1      1                1   \n",
       "9       0              1        0              0      1                1   \n",
       "\n",
       "   Group_visits  Age  Avg_additional_charges_total  Month_to_end_contract  \\\n",
       "0             1   29                     14.227470                    5.0   \n",
       "1             1   31                    113.202938                   12.0   \n",
       "2             0   28                    129.448479                    1.0   \n",
       "3             1   33                     62.669863                   12.0   \n",
       "4             0   26                    198.362265                    1.0   \n",
       "5             1   34                    450.743960                    1.0   \n",
       "6             1   32                     94.266389                    6.0   \n",
       "7             0   30                    217.786641                    1.0   \n",
       "8             1   23                     45.409909                    1.0   \n",
       "9             0   31                     65.310836                    1.0   \n",
       "\n",
       "   Lifetime  Avg_class_frequency_total  Avg_class_frequency_current_month  \\\n",
       "0         3                   0.020398                           0.000000   \n",
       "1         7                   1.922936                           1.910244   \n",
       "2         2                   1.859098                           1.736502   \n",
       "3         2                   3.205633                           3.357215   \n",
       "4         3                   1.113884                           1.120078   \n",
       "5         3                   2.623477                           2.637007   \n",
       "6         2                   1.138941                           1.277242   \n",
       "7         0                   1.213502                           1.049387   \n",
       "8         1                   1.106239                           1.059333   \n",
       "9        11                   1.810852                           1.951368   \n",
       "\n",
       "   Churn  \n",
       "0      0  \n",
       "1      0  \n",
       "2      0  \n",
       "3      0  \n",
       "4      0  \n",
       "5      0  \n",
       "6      0  \n",
       "7      1  \n",
       "8      0  \n",
       "9      0  "
      ]
     },
     "execution_count": 4,
     "metadata": {},
     "output_type": "execute_result"
    }
   ],
   "source": [
    "# получение первых 10 строк таблицы gym_churn\n",
    "gym_churn.head(10)"
   ]
  },
  {
   "cell_type": "code",
   "execution_count": 5,
   "metadata": {},
   "outputs": [
    {
     "name": "stdout",
     "output_type": "stream",
     "text": [
      "<class 'pandas.core.frame.DataFrame'>\n",
      "RangeIndex: 4000 entries, 0 to 3999\n",
      "Data columns (total 14 columns):\n",
      " #   Column                             Non-Null Count  Dtype  \n",
      "---  ------                             --------------  -----  \n",
      " 0   gender                             4000 non-null   int64  \n",
      " 1   Near_Location                      4000 non-null   int64  \n",
      " 2   Partner                            4000 non-null   int64  \n",
      " 3   Promo_friends                      4000 non-null   int64  \n",
      " 4   Phone                              4000 non-null   int64  \n",
      " 5   Contract_period                    4000 non-null   int64  \n",
      " 6   Group_visits                       4000 non-null   int64  \n",
      " 7   Age                                4000 non-null   int64  \n",
      " 8   Avg_additional_charges_total       4000 non-null   float64\n",
      " 9   Month_to_end_contract              4000 non-null   float64\n",
      " 10  Lifetime                           4000 non-null   int64  \n",
      " 11  Avg_class_frequency_total          4000 non-null   float64\n",
      " 12  Avg_class_frequency_current_month  4000 non-null   float64\n",
      " 13  Churn                              4000 non-null   int64  \n",
      "dtypes: float64(4), int64(10)\n",
      "memory usage: 437.6 KB\n"
     ]
    }
   ],
   "source": [
    "# получение общей информации о данных в таблице gym_churn\n",
    "gym_churn.info()"
   ]
  },
  {
   "cell_type": "code",
   "execution_count": 6,
   "metadata": {},
   "outputs": [
    {
     "data": {
      "image/png": "[encoded data removed]",
      "text/plain": [
       "<Figure size 720x720 with 16 Axes>"
      ]
     },
     "metadata": {
      "needs_background": "light"
     },
     "output_type": "display_data"
    }
   ],
   "source": [
    "# общая гистограмма\n",
    "gym_churn.hist(figsize=(10, 10))\n",
    "plt.show() # добавила для корректного вывода графиков"
   ]
  },
  {
   "cell_type": "markdown",
   "metadata": {},
   "source": [
    "Каких-то ярких выбросов и перекосов не наблюдается."
   ]
  },
  {
   "cell_type": "code",
   "execution_count": 7,
   "metadata": {},
   "outputs": [],
   "source": [
    "# перевод названий столбцов в snake_case\n",
    "# gym_churn.columns = [x.lower() for x in gym_churn.columns] #альтернативный метод\n",
    "gym_churn.columns = gym_churn.columns.str.lower()"
   ]
  },
  {
   "cell_type": "code",
   "execution_count": 8,
   "metadata": {},
   "outputs": [],
   "source": [
    "# изменение типа данных\n",
    "#for column in ['gender', 'near_location', 'partner', 'promo_friends', 'phone', 'group_visits', 'churn']:\n",
    "#    gym_churn[column] = gym_churn[column].astype(bool)\n",
    "\n",
    "#gym_churn['month_to_end_contract'] = gym_churn['month_to_end_contract'].astype(int)"
   ]
  },
  {
   "cell_type": "code",
   "execution_count": 9,
   "metadata": {},
   "outputs": [
    {
     "data": {
      "text/plain": [
       "0"
      ]
     },
     "execution_count": 9,
     "metadata": {},
     "output_type": "execute_result"
    }
   ],
   "source": [
    "# проверка наличия явных дубликатов\n",
    "gym_churn.duplicated().sum()"
   ]
  },
  {
   "cell_type": "code",
   "execution_count": 10,
   "metadata": {},
   "outputs": [
    {
     "data": {
      "text/html": [
       "<div>\n",
       "<style scoped>\n",
       "    .dataframe tbody tr th:only-of-type {\n",
       "        vertical-align: middle;\n",
       "    }\n",
       "\n",
       "    .dataframe tbody tr th {\n",
       "        vertical-align: top;\n",
       "    }\n",
       "\n",
       "    .dataframe thead th {\n",
       "        text-align: right;\n",
       "    }\n",
       "</style>\n",
       "<table border=\"1\" class=\"dataframe\">\n",
       "  <thead>\n",
       "    <tr style=\"text-align: right;\">\n",
       "      <th></th>\n",
       "      <th>gender</th>\n",
       "      <th>near_location</th>\n",
       "      <th>partner</th>\n",
       "      <th>promo_friends</th>\n",
       "      <th>phone</th>\n",
       "      <th>contract_period</th>\n",
       "      <th>group_visits</th>\n",
       "      <th>age</th>\n",
       "      <th>avg_additional_charges_total</th>\n",
       "      <th>month_to_end_contract</th>\n",
       "      <th>lifetime</th>\n",
       "      <th>avg_class_frequency_total</th>\n",
       "      <th>avg_class_frequency_current_month</th>\n",
       "      <th>churn</th>\n",
       "    </tr>\n",
       "  </thead>\n",
       "  <tbody>\n",
       "    <tr>\n",
       "      <th>count</th>\n",
       "      <td>4000.000000</td>\n",
       "      <td>4000.000000</td>\n",
       "      <td>4000.000000</td>\n",
       "      <td>4000.000000</td>\n",
       "      <td>4000.000000</td>\n",
       "      <td>4000.000000</td>\n",
       "      <td>4000.000000</td>\n",
       "      <td>4000.000000</td>\n",
       "      <td>4000.000000</td>\n",
       "      <td>4000.000000</td>\n",
       "      <td>4000.000000</td>\n",
       "      <td>4000.000000</td>\n",
       "      <td>4000.000000</td>\n",
       "      <td>4000.000000</td>\n",
       "    </tr>\n",
       "    <tr>\n",
       "      <th>mean</th>\n",
       "      <td>0.510250</td>\n",
       "      <td>0.845250</td>\n",
       "      <td>0.486750</td>\n",
       "      <td>0.308500</td>\n",
       "      <td>0.903500</td>\n",
       "      <td>4.681250</td>\n",
       "      <td>0.412250</td>\n",
       "      <td>29.184250</td>\n",
       "      <td>146.943728</td>\n",
       "      <td>4.322750</td>\n",
       "      <td>3.724750</td>\n",
       "      <td>1.879020</td>\n",
       "      <td>1.767052</td>\n",
       "      <td>0.265250</td>\n",
       "    </tr>\n",
       "    <tr>\n",
       "      <th>std</th>\n",
       "      <td>0.499957</td>\n",
       "      <td>0.361711</td>\n",
       "      <td>0.499887</td>\n",
       "      <td>0.461932</td>\n",
       "      <td>0.295313</td>\n",
       "      <td>4.549706</td>\n",
       "      <td>0.492301</td>\n",
       "      <td>3.258367</td>\n",
       "      <td>96.355602</td>\n",
       "      <td>4.191297</td>\n",
       "      <td>3.749267</td>\n",
       "      <td>0.972245</td>\n",
       "      <td>1.052906</td>\n",
       "      <td>0.441521</td>\n",
       "    </tr>\n",
       "    <tr>\n",
       "      <th>min</th>\n",
       "      <td>0.000000</td>\n",
       "      <td>0.000000</td>\n",
       "      <td>0.000000</td>\n",
       "      <td>0.000000</td>\n",
       "      <td>0.000000</td>\n",
       "      <td>1.000000</td>\n",
       "      <td>0.000000</td>\n",
       "      <td>18.000000</td>\n",
       "      <td>0.148205</td>\n",
       "      <td>1.000000</td>\n",
       "      <td>0.000000</td>\n",
       "      <td>0.000000</td>\n",
       "      <td>0.000000</td>\n",
       "      <td>0.000000</td>\n",
       "    </tr>\n",
       "    <tr>\n",
       "      <th>25%</th>\n",
       "      <td>0.000000</td>\n",
       "      <td>1.000000</td>\n",
       "      <td>0.000000</td>\n",
       "      <td>0.000000</td>\n",
       "      <td>1.000000</td>\n",
       "      <td>1.000000</td>\n",
       "      <td>0.000000</td>\n",
       "      <td>27.000000</td>\n",
       "      <td>68.868830</td>\n",
       "      <td>1.000000</td>\n",
       "      <td>1.000000</td>\n",
       "      <td>1.180875</td>\n",
       "      <td>0.963003</td>\n",
       "      <td>0.000000</td>\n",
       "    </tr>\n",
       "    <tr>\n",
       "      <th>50%</th>\n",
       "      <td>1.000000</td>\n",
       "      <td>1.000000</td>\n",
       "      <td>0.000000</td>\n",
       "      <td>0.000000</td>\n",
       "      <td>1.000000</td>\n",
       "      <td>1.000000</td>\n",
       "      <td>0.000000</td>\n",
       "      <td>29.000000</td>\n",
       "      <td>136.220159</td>\n",
       "      <td>1.000000</td>\n",
       "      <td>3.000000</td>\n",
       "      <td>1.832768</td>\n",
       "      <td>1.719574</td>\n",
       "      <td>0.000000</td>\n",
       "    </tr>\n",
       "    <tr>\n",
       "      <th>75%</th>\n",
       "      <td>1.000000</td>\n",
       "      <td>1.000000</td>\n",
       "      <td>1.000000</td>\n",
       "      <td>1.000000</td>\n",
       "      <td>1.000000</td>\n",
       "      <td>6.000000</td>\n",
       "      <td>1.000000</td>\n",
       "      <td>31.000000</td>\n",
       "      <td>210.949625</td>\n",
       "      <td>6.000000</td>\n",
       "      <td>5.000000</td>\n",
       "      <td>2.536078</td>\n",
       "      <td>2.510336</td>\n",
       "      <td>1.000000</td>\n",
       "    </tr>\n",
       "    <tr>\n",
       "      <th>max</th>\n",
       "      <td>1.000000</td>\n",
       "      <td>1.000000</td>\n",
       "      <td>1.000000</td>\n",
       "      <td>1.000000</td>\n",
       "      <td>1.000000</td>\n",
       "      <td>12.000000</td>\n",
       "      <td>1.000000</td>\n",
       "      <td>41.000000</td>\n",
       "      <td>552.590740</td>\n",
       "      <td>12.000000</td>\n",
       "      <td>31.000000</td>\n",
       "      <td>6.023668</td>\n",
       "      <td>6.146783</td>\n",
       "      <td>1.000000</td>\n",
       "    </tr>\n",
       "  </tbody>\n",
       "</table>\n",
       "</div>"
      ],
      "text/plain": [
       "            gender  near_location      partner  promo_friends        phone  \\\n",
       "count  4000.000000    4000.000000  4000.000000    4000.000000  4000.000000   \n",
       "mean      0.510250       0.845250     0.486750       0.308500     0.903500   \n",
       "std       0.499957       0.361711     0.499887       0.461932     0.295313   \n",
       "min       0.000000       0.000000     0.000000       0.000000     0.000000   \n",
       "25%       0.000000       1.000000     0.000000       0.000000     1.000000   \n",
       "50%       1.000000       1.000000     0.000000       0.000000     1.000000   \n",
       "75%       1.000000       1.000000     1.000000       1.000000     1.000000   \n",
       "max       1.000000       1.000000     1.000000       1.000000     1.000000   \n",
       "\n",
       "       contract_period  group_visits          age  \\\n",
       "count      4000.000000   4000.000000  4000.000000   \n",
       "mean          4.681250      0.412250    29.184250   \n",
       "std           4.549706      0.492301     3.258367   \n",
       "min           1.000000      0.000000    18.000000   \n",
       "25%           1.000000      0.000000    27.000000   \n",
       "50%           1.000000      0.000000    29.000000   \n",
       "75%           6.000000      1.000000    31.000000   \n",
       "max          12.000000      1.000000    41.000000   \n",
       "\n",
       "       avg_additional_charges_total  month_to_end_contract     lifetime  \\\n",
       "count                   4000.000000            4000.000000  4000.000000   \n",
       "mean                     146.943728               4.322750     3.724750   \n",
       "std                       96.355602               4.191297     3.749267   \n",
       "min                        0.148205               1.000000     0.000000   \n",
       "25%                       68.868830               1.000000     1.000000   \n",
       "50%                      136.220159               1.000000     3.000000   \n",
       "75%                      210.949625               6.000000     5.000000   \n",
       "max                      552.590740              12.000000    31.000000   \n",
       "\n",
       "       avg_class_frequency_total  avg_class_frequency_current_month  \\\n",
       "count                4000.000000                        4000.000000   \n",
       "mean                    1.879020                           1.767052   \n",
       "std                     0.972245                           1.052906   \n",
       "min                     0.000000                           0.000000   \n",
       "25%                     1.180875                           0.963003   \n",
       "50%                     1.832768                           1.719574   \n",
       "75%                     2.536078                           2.510336   \n",
       "max                     6.023668                           6.146783   \n",
       "\n",
       "             churn  \n",
       "count  4000.000000  \n",
       "mean      0.265250  \n",
       "std       0.441521  \n",
       "min       0.000000  \n",
       "25%       0.000000  \n",
       "50%       0.000000  \n",
       "75%       1.000000  \n",
       "max       1.000000  "
      ]
     },
     "execution_count": 10,
     "metadata": {},
     "output_type": "execute_result"
    }
   ],
   "source": [
    "# изучим статистические характеристики по числовому признаку\n",
    "gym_churn.describe()"
   ]
  },
  {
   "cell_type": "markdown",
   "metadata": {},
   "source": [
    "Большинство клиентов - женщины, большая часть живет в непосредственной близости от фитнес-центров, об этом говорит высокое среднее и низкое стандартное отклонение. Половина клиентов пришла по партнерским программам, среди клиентов довольно мало тех, кто пришел по акции \"приведи друга\", почти у всех указан номер телефона, менее половины посещают групповые занятия. Средний возраст клиента составляет 29 лет. Абонементы быват от 1 до 12 месяцев и судя по стандартному отклонению разброс этих абонементов довольно большой. То же касается и срока окончания действия абонементов. Есть клиенты, которые еще ни разу не успели посетить занятия и те, кто занимается уже более 2 лет. Есть клиенты, которые занимаются по 6 раз в неделю, но в среднем это 1-2 посещения в неделю. Максимальная выручка с дополнительных услуг в центрах более 500 единиц, в среднем 147. Отток, на первый взгляд, не выглядит критичным, в среднем около 26%."
   ]
  },
  {
   "cell_type": "code",
   "execution_count": 11,
   "metadata": {},
   "outputs": [
    {
     "data": {
      "text/html": [
       "<div>\n",
       "<style scoped>\n",
       "    .dataframe tbody tr th:only-of-type {\n",
       "        vertical-align: middle;\n",
       "    }\n",
       "\n",
       "    .dataframe tbody tr th {\n",
       "        vertical-align: top;\n",
       "    }\n",
       "\n",
       "    .dataframe thead th {\n",
       "        text-align: right;\n",
       "    }\n",
       "</style>\n",
       "<table border=\"1\" class=\"dataframe\">\n",
       "  <thead>\n",
       "    <tr style=\"text-align: right;\">\n",
       "      <th>churn</th>\n",
       "      <th>0</th>\n",
       "      <th>1</th>\n",
       "    </tr>\n",
       "  </thead>\n",
       "  <tbody>\n",
       "    <tr>\n",
       "      <th>gender</th>\n",
       "      <td>0.510037</td>\n",
       "      <td>0.510839</td>\n",
       "    </tr>\n",
       "    <tr>\n",
       "      <th>near_location</th>\n",
       "      <td>0.873086</td>\n",
       "      <td>0.768143</td>\n",
       "    </tr>\n",
       "    <tr>\n",
       "      <th>partner</th>\n",
       "      <td>0.534195</td>\n",
       "      <td>0.355325</td>\n",
       "    </tr>\n",
       "    <tr>\n",
       "      <th>promo_friends</th>\n",
       "      <td>0.353522</td>\n",
       "      <td>0.183789</td>\n",
       "    </tr>\n",
       "    <tr>\n",
       "      <th>phone</th>\n",
       "      <td>0.903709</td>\n",
       "      <td>0.902922</td>\n",
       "    </tr>\n",
       "    <tr>\n",
       "      <th>contract_period</th>\n",
       "      <td>5.747193</td>\n",
       "      <td>1.728558</td>\n",
       "    </tr>\n",
       "    <tr>\n",
       "      <th>group_visits</th>\n",
       "      <td>0.464103</td>\n",
       "      <td>0.268615</td>\n",
       "    </tr>\n",
       "    <tr>\n",
       "      <th>age</th>\n",
       "      <td>29.976523</td>\n",
       "      <td>26.989632</td>\n",
       "    </tr>\n",
       "    <tr>\n",
       "      <th>avg_additional_charges_total</th>\n",
       "      <td>158.445715</td>\n",
       "      <td>115.082899</td>\n",
       "    </tr>\n",
       "    <tr>\n",
       "      <th>month_to_end_contract</th>\n",
       "      <td>5.283089</td>\n",
       "      <td>1.662582</td>\n",
       "    </tr>\n",
       "    <tr>\n",
       "      <th>lifetime</th>\n",
       "      <td>4.711807</td>\n",
       "      <td>0.990575</td>\n",
       "    </tr>\n",
       "    <tr>\n",
       "      <th>avg_class_frequency_total</th>\n",
       "      <td>2.024876</td>\n",
       "      <td>1.474995</td>\n",
       "    </tr>\n",
       "    <tr>\n",
       "      <th>avg_class_frequency_current_month</th>\n",
       "      <td>2.027882</td>\n",
       "      <td>1.044546</td>\n",
       "    </tr>\n",
       "  </tbody>\n",
       "</table>\n",
       "</div>"
      ],
      "text/plain": [
       "churn                                       0           1\n",
       "gender                               0.510037    0.510839\n",
       "near_location                        0.873086    0.768143\n",
       "partner                              0.534195    0.355325\n",
       "promo_friends                        0.353522    0.183789\n",
       "phone                                0.903709    0.902922\n",
       "contract_period                      5.747193    1.728558\n",
       "group_visits                         0.464103    0.268615\n",
       "age                                 29.976523   26.989632\n",
       "avg_additional_charges_total       158.445715  115.082899\n",
       "month_to_end_contract                5.283089    1.662582\n",
       "lifetime                             4.711807    0.990575\n",
       "avg_class_frequency_total            2.024876    1.474995\n",
       "avg_class_frequency_current_month    2.027882    1.044546"
      ]
     },
     "execution_count": 11,
     "metadata": {},
     "output_type": "execute_result"
    }
   ],
   "source": [
    "# средние значения признаков в двух группах — тех, кто ушел в отток(1) и тех, кто остался(0)\n",
    "gym_churn.groupby('churn').mean().T"
   ]
  },
  {
   "cell_type": "markdown",
   "metadata": {},
   "source": [
    "В оттоке пол не оказывает сильного влияния, тут клиенты, которые чаще живут не в непосредственной близости к клубу, пришедшие не по партнерской скидочной программе, которые реже посещают групповые занятия, в среднем занимаются около месяца."
   ]
  },
  {
   "cell_type": "code",
   "execution_count": 12,
   "metadata": {
    "scrolled": false
   },
   "outputs": [
    {
     "name": "stderr",
     "output_type": "stream",
     "text": [
      "/opt/conda/lib/python3.9/site-packages/seaborn/distributions.py:2557: FutureWarning: `distplot` is a deprecated function and will be removed in a future version. Please adapt your code to use either `displot` (a figure-level function with similar flexibility) or `histplot` (an axes-level function for histograms).\n",
      "  warnings.warn(msg, FutureWarning)\n",
      "/opt/conda/lib/python3.9/site-packages/seaborn/distributions.py:2557: FutureWarning: `distplot` is a deprecated function and will be removed in a future version. Please adapt your code to use either `displot` (a figure-level function with similar flexibility) or `histplot` (an axes-level function for histograms).\n",
      "  warnings.warn(msg, FutureWarning)\n"
     ]
    },
    {
     "data": {
      "image/png": "[encoded data removed]",
      "text/plain": [
       "<Figure size 360x360 with 1 Axes>"
      ]
     },
     "metadata": {
      "needs_background": "light"
     },
     "output_type": "display_data"
    },
    {
     "name": "stderr",
     "output_type": "stream",
     "text": [
      "/opt/conda/lib/python3.9/site-packages/seaborn/distributions.py:2557: FutureWarning: `distplot` is a deprecated function and will be removed in a future version. Please adapt your code to use either `displot` (a figure-level function with similar flexibility) or `histplot` (an axes-level function for histograms).\n",
      "  warnings.warn(msg, FutureWarning)\n",
      "/opt/conda/lib/python3.9/site-packages/seaborn/distributions.py:2557: FutureWarning: `distplot` is a deprecated function and will be removed in a future version. Please adapt your code to use either `displot` (a figure-level function with similar flexibility) or `histplot` (an axes-level function for histograms).\n",
      "  warnings.warn(msg, FutureWarning)\n"
     ]
    },
    {
     "data": {
      "image/png": "[encoded data removed]",
      "text/plain": [
       "<Figure size 360x360 with 1 Axes>"
      ]
     },
     "metadata": {
      "needs_background": "light"
     },
     "output_type": "display_data"
    },
    {
     "name": "stderr",
     "output_type": "stream",
     "text": [
      "/opt/conda/lib/python3.9/site-packages/seaborn/distributions.py:2557: FutureWarning: `distplot` is a deprecated function and will be removed in a future version. Please adapt your code to use either `displot` (a figure-level function with similar flexibility) or `histplot` (an axes-level function for histograms).\n",
      "  warnings.warn(msg, FutureWarning)\n",
      "/opt/conda/lib/python3.9/site-packages/seaborn/distributions.py:2557: FutureWarning: `distplot` is a deprecated function and will be removed in a future version. Please adapt your code to use either `displot` (a figure-level function with similar flexibility) or `histplot` (an axes-level function for histograms).\n",
      "  warnings.warn(msg, FutureWarning)\n"
     ]
    },
    {
     "data": {
      "image/png": "[encoded data removed]",
      "text/plain": [
       "<Figure size 360x360 with 1 Axes>"
      ]
     },
     "metadata": {
      "needs_background": "light"
     },
     "output_type": "display_data"
    },
    {
     "name": "stderr",
     "output_type": "stream",
     "text": [
      "/opt/conda/lib/python3.9/site-packages/seaborn/distributions.py:2557: FutureWarning: `distplot` is a deprecated function and will be removed in a future version. Please adapt your code to use either `displot` (a figure-level function with similar flexibility) or `histplot` (an axes-level function for histograms).\n",
      "  warnings.warn(msg, FutureWarning)\n",
      "/opt/conda/lib/python3.9/site-packages/seaborn/distributions.py:2557: FutureWarning: `distplot` is a deprecated function and will be removed in a future version. Please adapt your code to use either `displot` (a figure-level function with similar flexibility) or `histplot` (an axes-level function for histograms).\n",
      "  warnings.warn(msg, FutureWarning)\n"
     ]
    },
    {
     "data": {
      "image/png": "[encoded data removed]",
      "text/plain": [
       "<Figure size 360x360 with 1 Axes>"
      ]
     },
     "metadata": {
      "needs_background": "light"
     },
     "output_type": "display_data"
    },
    {
     "name": "stderr",
     "output_type": "stream",
     "text": [
      "/opt/conda/lib/python3.9/site-packages/seaborn/distributions.py:2557: FutureWarning: `distplot` is a deprecated function and will be removed in a future version. Please adapt your code to use either `displot` (a figure-level function with similar flexibility) or `histplot` (an axes-level function for histograms).\n",
      "  warnings.warn(msg, FutureWarning)\n",
      "/opt/conda/lib/python3.9/site-packages/seaborn/distributions.py:2557: FutureWarning: `distplot` is a deprecated function and will be removed in a future version. Please adapt your code to use either `displot` (a figure-level function with similar flexibility) or `histplot` (an axes-level function for histograms).\n",
      "  warnings.warn(msg, FutureWarning)\n"
     ]
    },
    {
     "data": {
      "image/png": "[encoded data removed]",
      "text/plain": [
       "<Figure size 360x360 with 1 Axes>"
      ]
     },
     "metadata": {
      "needs_background": "light"
     },
     "output_type": "display_data"
    },
    {
     "name": "stderr",
     "output_type": "stream",
     "text": [
      "/opt/conda/lib/python3.9/site-packages/seaborn/distributions.py:2557: FutureWarning: `distplot` is a deprecated function and will be removed in a future version. Please adapt your code to use either `displot` (a figure-level function with similar flexibility) or `histplot` (an axes-level function for histograms).\n",
      "  warnings.warn(msg, FutureWarning)\n",
      "/opt/conda/lib/python3.9/site-packages/seaborn/distributions.py:2557: FutureWarning: `distplot` is a deprecated function and will be removed in a future version. Please adapt your code to use either `displot` (a figure-level function with similar flexibility) or `histplot` (an axes-level function for histograms).\n",
      "  warnings.warn(msg, FutureWarning)\n"
     ]
    },
    {
     "data": {
      "image/png": "[encoded data removed]",
      "text/plain": [
       "<Figure size 360x360 with 1 Axes>"
      ]
     },
     "metadata": {
      "needs_background": "light"
     },
     "output_type": "display_data"
    },
    {
     "name": "stderr",
     "output_type": "stream",
     "text": [
      "/opt/conda/lib/python3.9/site-packages/seaborn/distributions.py:2557: FutureWarning: `distplot` is a deprecated function and will be removed in a future version. Please adapt your code to use either `displot` (a figure-level function with similar flexibility) or `histplot` (an axes-level function for histograms).\n",
      "  warnings.warn(msg, FutureWarning)\n",
      "/opt/conda/lib/python3.9/site-packages/seaborn/distributions.py:2557: FutureWarning: `distplot` is a deprecated function and will be removed in a future version. Please adapt your code to use either `displot` (a figure-level function with similar flexibility) or `histplot` (an axes-level function for histograms).\n",
      "  warnings.warn(msg, FutureWarning)\n"
     ]
    },
    {
     "data": {
      "image/png": "[encoded data removed]",
      "text/plain": [
       "<Figure size 360x360 with 1 Axes>"
      ]
     },
     "metadata": {
      "needs_background": "light"
     },
     "output_type": "display_data"
    },
    {
     "name": "stderr",
     "output_type": "stream",
     "text": [
      "/opt/conda/lib/python3.9/site-packages/seaborn/distributions.py:2557: FutureWarning: `distplot` is a deprecated function and will be removed in a future version. Please adapt your code to use either `displot` (a figure-level function with similar flexibility) or `histplot` (an axes-level function for histograms).\n",
      "  warnings.warn(msg, FutureWarning)\n",
      "/opt/conda/lib/python3.9/site-packages/seaborn/distributions.py:2557: FutureWarning: `distplot` is a deprecated function and will be removed in a future version. Please adapt your code to use either `displot` (a figure-level function with similar flexibility) or `histplot` (an axes-level function for histograms).\n",
      "  warnings.warn(msg, FutureWarning)\n"
     ]
    },
    {
     "data": {
      "image/png": "[encoded data removed]",
      "text/plain": [
       "<Figure size 360x360 with 1 Axes>"
      ]
     },
     "metadata": {
      "needs_background": "light"
     },
     "output_type": "display_data"
    },
    {
     "name": "stderr",
     "output_type": "stream",
     "text": [
      "/opt/conda/lib/python3.9/site-packages/seaborn/distributions.py:2557: FutureWarning: `distplot` is a deprecated function and will be removed in a future version. Please adapt your code to use either `displot` (a figure-level function with similar flexibility) or `histplot` (an axes-level function for histograms).\n",
      "  warnings.warn(msg, FutureWarning)\n",
      "/opt/conda/lib/python3.9/site-packages/seaborn/distributions.py:2557: FutureWarning: `distplot` is a deprecated function and will be removed in a future version. Please adapt your code to use either `displot` (a figure-level function with similar flexibility) or `histplot` (an axes-level function for histograms).\n",
      "  warnings.warn(msg, FutureWarning)\n"
     ]
    },
    {
     "data": {
      "image/png": "[encoded data removed]",
      "text/plain": [
       "<Figure size 360x360 with 1 Axes>"
      ]
     },
     "metadata": {
      "needs_background": "light"
     },
     "output_type": "display_data"
    },
    {
     "name": "stderr",
     "output_type": "stream",
     "text": [
      "/opt/conda/lib/python3.9/site-packages/seaborn/distributions.py:2557: FutureWarning: `distplot` is a deprecated function and will be removed in a future version. Please adapt your code to use either `displot` (a figure-level function with similar flexibility) or `histplot` (an axes-level function for histograms).\n",
      "  warnings.warn(msg, FutureWarning)\n",
      "/opt/conda/lib/python3.9/site-packages/seaborn/distributions.py:2557: FutureWarning: `distplot` is a deprecated function and will be removed in a future version. Please adapt your code to use either `displot` (a figure-level function with similar flexibility) or `histplot` (an axes-level function for histograms).\n",
      "  warnings.warn(msg, FutureWarning)\n"
     ]
    },
    {
     "data": {
      "image/png": "[encoded data removed]",
      "text/plain": [
       "<Figure size 360x360 with 1 Axes>"
      ]
     },
     "metadata": {
      "needs_background": "light"
     },
     "output_type": "display_data"
    },
    {
     "name": "stderr",
     "output_type": "stream",
     "text": [
      "/opt/conda/lib/python3.9/site-packages/seaborn/distributions.py:2557: FutureWarning: `distplot` is a deprecated function and will be removed in a future version. Please adapt your code to use either `displot` (a figure-level function with similar flexibility) or `histplot` (an axes-level function for histograms).\n",
      "  warnings.warn(msg, FutureWarning)\n",
      "/opt/conda/lib/python3.9/site-packages/seaborn/distributions.py:2557: FutureWarning: `distplot` is a deprecated function and will be removed in a future version. Please adapt your code to use either `displot` (a figure-level function with similar flexibility) or `histplot` (an axes-level function for histograms).\n",
      "  warnings.warn(msg, FutureWarning)\n"
     ]
    },
    {
     "data": {
      "image/png": "[encoded data removed]",
      "text/plain": [
       "<Figure size 360x360 with 1 Axes>"
      ]
     },
     "metadata": {
      "needs_background": "light"
     },
     "output_type": "display_data"
    },
    {
     "name": "stderr",
     "output_type": "stream",
     "text": [
      "/opt/conda/lib/python3.9/site-packages/seaborn/distributions.py:2557: FutureWarning: `distplot` is a deprecated function and will be removed in a future version. Please adapt your code to use either `displot` (a figure-level function with similar flexibility) or `histplot` (an axes-level function for histograms).\n",
      "  warnings.warn(msg, FutureWarning)\n",
      "/opt/conda/lib/python3.9/site-packages/seaborn/distributions.py:2557: FutureWarning: `distplot` is a deprecated function and will be removed in a future version. Please adapt your code to use either `displot` (a figure-level function with similar flexibility) or `histplot` (an axes-level function for histograms).\n",
      "  warnings.warn(msg, FutureWarning)\n"
     ]
    },
    {
     "data": {
      "image/png": "[encoded data removed]",
      "text/plain": [
       "<Figure size 360x360 with 1 Axes>"
      ]
     },
     "metadata": {
      "needs_background": "light"
     },
     "output_type": "display_data"
    },
    {
     "name": "stderr",
     "output_type": "stream",
     "text": [
      "/opt/conda/lib/python3.9/site-packages/seaborn/distributions.py:2557: FutureWarning: `distplot` is a deprecated function and will be removed in a future version. Please adapt your code to use either `displot` (a figure-level function with similar flexibility) or `histplot` (an axes-level function for histograms).\n",
      "  warnings.warn(msg, FutureWarning)\n",
      "/opt/conda/lib/python3.9/site-packages/seaborn/distributions.py:2557: FutureWarning: `distplot` is a deprecated function and will be removed in a future version. Please adapt your code to use either `displot` (a figure-level function with similar flexibility) or `histplot` (an axes-level function for histograms).\n",
      "  warnings.warn(msg, FutureWarning)\n"
     ]
    },
    {
     "data": {
      "image/png": "[encoded data removed]",
      "text/plain": [
       "<Figure size 360x360 with 1 Axes>"
      ]
     },
     "metadata": {
      "needs_background": "light"
     },
     "output_type": "display_data"
    },
    {
     "name": "stderr",
     "output_type": "stream",
     "text": [
      "/opt/conda/lib/python3.9/site-packages/seaborn/distributions.py:2557: FutureWarning: `distplot` is a deprecated function and will be removed in a future version. Please adapt your code to use either `displot` (a figure-level function with similar flexibility) or `histplot` (an axes-level function for histograms).\n",
      "  warnings.warn(msg, FutureWarning)\n",
      "/opt/conda/lib/python3.9/site-packages/seaborn/distributions.py:306: UserWarning: Dataset has 0 variance; skipping density estimate.\n",
      "  warnings.warn(msg, UserWarning)\n",
      "/opt/conda/lib/python3.9/site-packages/seaborn/distributions.py:2557: FutureWarning: `distplot` is a deprecated function and will be removed in a future version. Please adapt your code to use either `displot` (a figure-level function with similar flexibility) or `histplot` (an axes-level function for histograms).\n",
      "  warnings.warn(msg, FutureWarning)\n",
      "/opt/conda/lib/python3.9/site-packages/seaborn/distributions.py:306: UserWarning: Dataset has 0 variance; skipping density estimate.\n",
      "  warnings.warn(msg, UserWarning)\n"
     ]
    },
    {
     "data": {
      "image/png": "[encoded data removed]",
      "text/plain": [
       "<Figure size 360x360 with 1 Axes>"
      ]
     },
     "metadata": {
      "needs_background": "light"
     },
     "output_type": "display_data"
    }
   ],
   "source": [
    "# построим столбчатые гистограммы и распределения признаков для тех, кто ушёл (отток) и тех, кто остался (не попали в отток)\n",
    "stopped_using = gym_churn[gym_churn['churn']==1]\n",
    "customers = gym_churn[gym_churn['churn']==0]\n",
    "\n",
    "for column in gym_churn.columns:\n",
    "    plt.figure(figsize=(5, 5))\n",
    "    sns.distplot(stopped_using[column])\n",
    "    sns.distplot(customers[column])\n",
    "    plt.legend(['Отток', 'Клиенты'])\n",
    "    plt.title(column)\n",
    "    plt.show()\n",
    "    \n",
    "warnings.simplefilter(action='ignore') # отключила warnings"
   ]
  },
  {
   "cell_type": "code",
   "execution_count": 13,
   "metadata": {},
   "outputs": [
    {
     "data": {
      "image/png": "[encoded data removed]",
      "text/plain": [
       "<Figure size 720x720 with 2 Axes>"
      ]
     },
     "metadata": {
      "needs_background": "light"
     },
     "output_type": "display_data"
    }
   ],
   "source": [
    "#построим и отрисуем матрицу корреляций\n",
    "cm = gym_churn.corr() #вычисляем матрицу корреляций\n",
    "plt.figure(figsize=(10, 10))\n",
    "#fig, ax = plt.subplots()\n",
    "\n",
    "#нарисуем тепловую карту с подписями для матрицы корреляций\n",
    "sns.heatmap (cm, annot=True, square=True, fmt = '0.2f', linewidths=.5) #ваш код здесь\n",
    "#ax.set_ylim(\n",
    "#    7, 0\n",
    "#)  # корректировка \"рваных\" полей heatmap в последней версии библиотеки\n",
    "plt.show()"
   ]
  },
  {
   "cell_type": "code",
   "execution_count": 14,
   "metadata": {
    "scrolled": false
   },
   "outputs": [
    {
     "data": {
      "image/png": "[encoded data removed]",
      "text/plain": [
       "<Figure size 432x288 with 1 Axes>"
      ]
     },
     "metadata": {
      "needs_background": "light"
     },
     "output_type": "display_data"
    },
    {
     "data": {
      "image/png": "[encoded data removed]",
      "text/plain": [
       "<Figure size 432x288 with 1 Axes>"
      ]
     },
     "metadata": {
      "needs_background": "light"
     },
     "output_type": "display_data"
    },
    {
     "data": {
      "image/png": "[encoded data removed]",
      "text/plain": [
       "<Figure size 432x288 with 1 Axes>"
      ]
     },
     "metadata": {
      "needs_background": "light"
     },
     "output_type": "display_data"
    },
    {
     "data": {
      "image/png": "[encoded data removed]",
      "text/plain": [
       "<Figure size 432x288 with 1 Axes>"
      ]
     },
     "metadata": {
      "needs_background": "light"
     },
     "output_type": "display_data"
    },
    {
     "data": {
      "image/png": "[encoded data removed]",
      "text/plain": [
       "<Figure size 432x288 with 1 Axes>"
      ]
     },
     "metadata": {
      "needs_background": "light"
     },
     "output_type": "display_data"
    },
    {
     "data": {
      "image/png": "[encoded data removed]",
      "text/plain": [
       "<Figure size 432x288 with 1 Axes>"
      ]
     },
     "metadata": {
      "needs_background": "light"
     },
     "output_type": "display_data"
    },
    {
     "data": {
      "image/png": "[encoded data removed]",
      "text/plain": [
       "<Figure size 432x288 with 1 Axes>"
      ]
     },
     "metadata": {
      "needs_background": "light"
     },
     "output_type": "display_data"
    },
    {
     "data": {
      "image/png": "[encoded data removed]",
      "text/plain": [
       "<Figure size 432x288 with 1 Axes>"
      ]
     },
     "metadata": {
      "needs_background": "light"
     },
     "output_type": "display_data"
    },
    {
     "data": {
      "image/png": "[encoded data removed]",
      "text/plain": [
       "<Figure size 432x288 with 1 Axes>"
      ]
     },
     "metadata": {
      "needs_background": "light"
     },
     "output_type": "display_data"
    },
    {
     "data": {
      "image/png": "[encoded data removed]",
      "text/plain": [
       "<Figure size 432x288 with 1 Axes>"
      ]
     },
     "metadata": {
      "needs_background": "light"
     },
     "output_type": "display_data"
    },
    {
     "data": {
      "image/png": "[encoded data removed]",
      "text/plain": [
       "<Figure size 432x288 with 1 Axes>"
      ]
     },
     "metadata": {
      "needs_background": "light"
     },
     "output_type": "display_data"
    },
    {
     "data": {
      "image/png": "[encoded data removed]",
      "text/plain": [
       "<Figure size 432x288 with 1 Axes>"
      ]
     },
     "metadata": {
      "needs_background": "light"
     },
     "output_type": "display_data"
    },
    {
     "data": {
      "image/png": "[encoded data removed]",
      "text/plain": [
       "<Figure size 432x288 with 1 Axes>"
      ]
     },
     "metadata": {
      "needs_background": "light"
     },
     "output_type": "display_data"
    }
   ],
   "source": [
    "#построим попарные диаграммы рассеяния признак-целевая переменная для каждого признака\n",
    "for col in gym_churn.drop('churn', axis = 1).columns:\n",
    "    sns.scatterplot(x=gym_churn[col], y=gym_churn['churn'])\n",
    "    plt.show()"
   ]
  },
  {
   "cell_type": "markdown",
   "metadata": {},
   "source": [
    "Что касается корреляций и попарных графиков — можно заметить, что некоторые признаки коррелируют друг с другом: contract_period и month_to_end_contract, avg_class_frequency_current_month и avg_class_frequency_total. Есть признаки с нулевой корреляцией с целевой переменной, это phone и gender, они вообще никак не влияют на отток. Наиболее сильно влияют на отток: время с момента первого обращения в фитнес-центр, количество посещений в месяц, возраст, длительность текущего действующего абонемента."
   ]
  },
  {
   "cell_type": "code",
   "execution_count": 15,
   "metadata": {},
   "outputs": [
    {
     "data": {
      "image/png": "[encoded data removed]",
      "text/plain": [
       "<Figure size 1080x288 with 2 Axes>"
      ]
     },
     "metadata": {
      "needs_background": "light"
     },
     "output_type": "display_data"
    }
   ],
   "source": [
    "# количество клиентов по возрасту среди тех, кто ушел в отток(1) и тех, кто остался(0)\n",
    "df = gym_churn.pivot_table(index='churn',columns='age', values='month_to_end_contract', aggfunc='count')\n",
    "plt.figure(figsize=(15, 4))\n",
    "sns.heatmap(df, annot=True, fmt='.0f')\n",
    "plt.show()"
   ]
  },
  {
   "cell_type": "markdown",
   "metadata": {},
   "source": [
    "Итак, **в таблице gym_churn** 14 столбцов. Типы данных в столбцах: int64, float64.\n",
    "Согласно документации набор данных включает следующие поля:\n",
    "\n",
    "* Данные клиента за предыдущий до проверки факта оттока месяц:\n",
    "    * `gender` — пол;\n",
    "    * `Near_Location` — проживание или работа в районе, где находится фитнес-центр;\n",
    "    * `Partner` — сотрудник компании-партнёра клуба (сотрудничество с компаниями, чьи сотрудники могут получать скидки на абонемент — в таком случае фитнес-центр хранит информацию о работодателе клиента);\n",
    "    * `Promo_friends` — факт первоначальной записи в рамках акции «приведи друга» (использовал промо-код от знакомого при оплате первого абонемента);\n",
    "    * `Phone` — наличие контактного телефона;\n",
    "    * `Age` — возраст;\n",
    "    * `Lifetime` — время с момента первого обращения в фитнес-центр (в месяцах).\n",
    "\n",
    "* Информация на основе журнала посещений, покупок и информация о текущем статусе абонемента клиента:\n",
    "    * `Contract_period` — длительность текущего действующего абонемента (месяц, 6 месяцев, год);\n",
    "    * `Month_to_end_contract` — срок до окончания текущего действующего абонемента (в месяцах);\n",
    "    * `Group_visits` — факт посещения групповых занятий;\n",
    "    * `Avg_class_frequency_total` — средняя частота посещений в неделю за все время с начала действия абонемента;\n",
    "    * `Avg_class_frequency_current_month` — средняя частота посещений в неделю за предыдущий месяц;\n",
    "    * `Avg_additional_charges_total` — суммарная выручка от других услуг фитнес-центра: кафе, спорттовары, косметический и массажный салон.\n",
    "\n",
    "* `Churn` — факт оттока в текущем месяце.\n",
    "\n",
    "Выгрузка совершена корректно, количество значений в столбцах не различается, пропусков и явных дубликатов нет.\n",
    "\n",
    "Средний возраст клиента 29 лет и возрастной признак сильно коррелирует с оттоком, в отток попадают более молодые клиенты. Так же ключевыми переменными являются: время с момента первого обращения в фитнес-центр, количество посещений в месяц, длительность текущего действующего абонемента."
   ]
  },
  {
   "cell_type": "markdown",
   "metadata": {},
   "source": [
    "## Шаг 3. Модель прогнозирования оттока клиентов"
   ]
  },
  {
   "cell_type": "code",
   "execution_count": 16,
   "metadata": {},
   "outputs": [],
   "source": [
    "# построим модель бинарной классификации клиентов, где целевой признак — факт оттока клиента в следующем месяце:\n",
    "# разделим данные на обучающую и валидационную выборку функцией train_test_split().\n",
    "# обучим модель на train-выборке двумя способами: логистической регрессией и случайным лесом"
   ]
  },
  {
   "cell_type": "code",
   "execution_count": 21,
   "metadata": {},
   "outputs": [
    {
     "name": "stdout",
     "output_type": "stream",
     "text": [
      "Accuracy: 0.92\n",
      "Precision: 0.85\n",
      "Recall: 0.83\n",
      "F1: 0.84\n"
     ]
    }
   ],
   "source": [
    "# разделим наши данные на признаки (матрица X) и целевую переменную (y)\n",
    "X = gym_churn.drop('churn', axis = 1)\n",
    "y = gym_churn['churn']\n",
    "\n",
    "# разделим модель на обучающую и валидационную выборку\n",
    "X_train, X_test, y_train, y_test = train_test_split(X, y, test_size=0.2, random_state=0)\n",
    "\n",
    "# масштабируем данные\n",
    "scaler = StandardScaler()\n",
    "X_train_st = scaler.fit_transform(X_train)\n",
    "X_test_st = scaler.transform(X_test)\n",
    "\n",
    "# зададим алгоритм для нашей модели\n",
    "lr_model = LogisticRegression(solver='liblinear')\n",
    "\n",
    "# обучим модель\n",
    "lr_model.fit(X_train_st, y_train)\n",
    "\n",
    "# воспользуемся уже обученной моделью, чтобы сделать прогнозы\n",
    "predictions = lr_model.predict(X_test_st)\n",
    "probabilities = lr_model.predict_proba(X_test_st)[:,1]\n",
    "\n",
    "# выведем все изученные метрики для полученного прогноза\n",
    "print('Accuracy: {:.2f}'.format(accuracy_score(y_test, predictions)))\n",
    "print('Precision: {:.2f}'.format(precision_score (y_test, predictions)))\n",
    "print('Recall: {:.2f}'.format(recall_score (y_test, predictions)))\n",
    "print('F1: {:.2f}'.format(f1_score(y_test, predictions)))"
   ]
  },
  {
   "cell_type": "code",
   "execution_count": 20,
   "metadata": {},
   "outputs": [
    {
     "name": "stdout",
     "output_type": "stream",
     "text": [
      "Accuracy: 0.91\n",
      "Precision: 0.84\n",
      "Recall: 0.79\n",
      "F1: 0.81\n"
     ]
    }
   ],
   "source": [
    "# случайный лес\n",
    "\n",
    "rf_model = RandomForestClassifier(n_estimators = 100, random_state = 0, class_weight='balanced') \n",
    "rf_model.fit(X_train, y_train)\n",
    "\n",
    "rf_predictions = rf_model.predict(X_test) \n",
    "rf_probabilities = rf_model.predict_proba(X_test)[:,1]\n",
    "\n",
    "print('Accuracy: {:.2f}'.format(accuracy_score(y_test, rf_predictions)))\n",
    "print('Precision: {:.2f}'.format(precision_score(y_test, rf_predictions)))\n",
    "print('Recall: {:.2f}'.format(recall_score(y_test, rf_predictions)))\n",
    "print('F1: {:.2f}'.format(f1_score(y_test, rf_predictions)))  "
   ]
  },
  {
   "cell_type": "markdown",
   "metadata": {},
   "source": [
    "Доля правильных прогнозов и полнота чуть выше в модели логистической регрессии. Таким образом, модель логистической регрессии показала себя лучше."
   ]
  },
  {
   "cell_type": "markdown",
   "metadata": {},
   "source": [
    "## Шаг 4. Кластеризация клиентов"
   ]
  },
  {
   "cell_type": "code",
   "execution_count": null,
   "metadata": {},
   "outputs": [],
   "source": [
    "# стандартизируем данные\n",
    "sc = StandardScaler()\n",
    "x_sc = sc.fit_transform(gym_churn)"
   ]
  },
  {
   "cell_type": "code",
   "execution_count": null,
   "metadata": {},
   "outputs": [],
   "source": [
    "# построим матрицу расстояний функцией linkage() на стандартизованной матрице признаков и нарисуем дендрограмму\n",
    "linked = linkage(x_sc, method = 'ward') \n",
    "plt.figure(figsize=(15, 10))  \n",
    "dendrogram(linked, orientation='top')\n",
    "plt.title('Иерархическая кластеризация клиентов')\n",
    "plt.show() "
   ]
  },
  {
   "cell_type": "markdown",
   "metadata": {},
   "source": [
    "Предложенное оптимальное число кластеров 5 — пять разных цветов на графике. По заданию также за число кластеров принимаем n=5."
   ]
  },
  {
   "cell_type": "code",
   "execution_count": null,
   "metadata": {},
   "outputs": [],
   "source": [
    "# задаём модель k_means с числом кластеров 5 и фиксируем значение random_state\n",
    "km = KMeans(n_clusters=5, random_state=0)\n",
    "# прогнозируем кластеры для наблюдений (алгоритм присваивает им номера от 0 до 4)\n",
    "labels = km.fit_predict(x_sc)\n",
    "\n",
    "# сохраняем метки кластера в поле нашего датасета\n",
    "gym_churn['cluster_km'] = labels"
   ]
  },
  {
   "cell_type": "code",
   "execution_count": null,
   "metadata": {},
   "outputs": [],
   "source": [
    "# выводим статистику по средним значениям наших признаков по кластеру\n",
    "gym_churn.groupby('cluster_km').mean().T"
   ]
  },
  {
   "cell_type": "code",
   "execution_count": null,
   "metadata": {},
   "outputs": [],
   "source": [
    "# посчитаем количество клиентов по кластерам\n",
    "gym_churn.groupby('cluster_km')['churn'].count().reset_index().sort_values(by='churn', ascending=False)"
   ]
  },
  {
   "cell_type": "markdown",
   "metadata": {},
   "source": [
    "Самый большой отток во 2 кластере - 96%, затем в нулевом - 45%. В третьем кластере самый маленький отток и самая большая численность клиентов."
   ]
  },
  {
   "cell_type": "code",
   "execution_count": null,
   "metadata": {
    "scrolled": false
   },
   "outputs": [],
   "source": [
    "# распределения бинарных признаков для кластеров\n",
    "for column in ['gender', 'near_location', 'partner', 'promo_friends', 'phone', 'group_visits']:\n",
    "    plt.figure(figsize=(5, 5))\n",
    "    sns.countplot(x = gym_churn[column], hue='cluster_km', data=gym_churn)\n",
    "    plt.title(column)\n",
    "    plt.show()"
   ]
  },
  {
   "cell_type": "code",
   "execution_count": null,
   "metadata": {
    "scrolled": false
   },
   "outputs": [],
   "source": [
    "# распределения признаков для кластеров\n",
    "cluster_0 = gym_churn[gym_churn['cluster_km']==0]\n",
    "cluster_1 = gym_churn[gym_churn['cluster_km']==1]\n",
    "cluster_2 = gym_churn[gym_churn['cluster_km']==2]\n",
    "cluster_3 = gym_churn[gym_churn['cluster_km']==3]\n",
    "cluster_4 = gym_churn[gym_churn['cluster_km']==4]\n",
    "\n",
    "for column in gym_churn.columns:\n",
    "    plt.figure(figsize=(5, 5))\n",
    "    sns.distplot(cluster_0[column])\n",
    "    sns.distplot(cluster_1[column])\n",
    "    sns.distplot(cluster_2[column])\n",
    "    sns.distplot(cluster_3[column])\n",
    "    sns.distplot(cluster_4[column])\n",
    "    plt.legend(['кластер 0', 'кластер 1', 'кластер 2', 'кластер 3', 'кластер 4'])\n",
    "    plt.title(column)\n",
    "    plt.show()\n",
    "    \n",
    "warnings.simplefilter(action='ignore') # отключила warnings"
   ]
  },
  {
   "cell_type": "code",
   "execution_count": null,
   "metadata": {},
   "outputs": [],
   "source": [
    "# посчитаем долю оттока для каждого полученного кластера  \n",
    "gym_churn.groupby('cluster_km')['churn'].mean().reset_index().sort_values(by='churn', ascending=False)"
   ]
  },
  {
   "cell_type": "markdown",
   "metadata": {},
   "source": [
    "Самый большой отток во втором кластере - 96%, затем в нулевом - 45%. Третий кластер выглядит самым надежным - в нем маленький отток."
   ]
  },
  {
   "cell_type": "markdown",
   "metadata": {},
   "source": [
    "### Выводы"
   ]
  },
  {
   "cell_type": "markdown",
   "metadata": {},
   "source": [
    "Рекомендации для стратегии взаимодействия с клиентами и их удержания:\n",
    " - получение голосовой обратной связи с клиентами о том, решает ли продукт проблемы клиентов или вызывает проблемы: взаимодействие с клиентами через телефонный звонок, электронную почту или опрос;\n",
    " - идентификация клиентов в зоне риска (мужчины/женщины моложе 29 лет, проживающие не в непосредственной близости к клубу, пришедшие не по партнерской скидочной программе, которые реже посещают групповые занятия, в среднем занимаются около месяца);\n",
    " - определение самых ценных клиентов и максимальные усилия для их удержания;\n",
    " - предложение стимулов и скидок."
   ]
  }
 ],
 "metadata": {
  "ExecuteTimeLog": [
   {
    "duration": 1333,
    "start_time": "2023-08-26T11:07:42.452Z"
   },
   {
    "duration": 70,
    "start_time": "2023-08-26T11:07:43.787Z"
   },
   {
    "duration": 21,
    "start_time": "2023-08-26T11:07:55.372Z"
   },
   {
    "duration": 1184,
    "start_time": "2023-08-26T11:11:59.107Z"
   },
   {
    "duration": 32,
    "start_time": "2023-08-26T11:12:00.293Z"
   },
   {
    "duration": 23,
    "start_time": "2023-08-26T11:12:00.327Z"
   },
   {
    "duration": 36,
    "start_time": "2023-08-26T11:12:00.352Z"
   },
   {
    "duration": 950,
    "start_time": "2023-08-26T11:12:00.389Z"
   },
   {
    "duration": 105,
    "start_time": "2023-08-26T11:12:01.340Z"
   },
   {
    "duration": 0,
    "start_time": "2023-08-26T11:12:01.447Z"
   },
   {
    "duration": 0,
    "start_time": "2023-08-26T11:12:01.448Z"
   },
   {
    "duration": 0,
    "start_time": "2023-08-26T11:12:01.450Z"
   },
   {
    "duration": 0,
    "start_time": "2023-08-26T11:12:01.451Z"
   },
   {
    "duration": 0,
    "start_time": "2023-08-26T11:12:01.452Z"
   },
   {
    "duration": 1112,
    "start_time": "2023-08-26T11:23:10.529Z"
   },
   {
    "duration": 8,
    "start_time": "2023-08-26T11:23:55.543Z"
   },
   {
    "duration": 3,
    "start_time": "2023-08-26T11:24:04.253Z"
   },
   {
    "duration": 8,
    "start_time": "2023-08-26T11:24:08.585Z"
   },
   {
    "duration": 40,
    "start_time": "2023-08-26T11:24:11.992Z"
   },
   {
    "duration": 38,
    "start_time": "2023-08-26T11:25:25.703Z"
   },
   {
    "duration": 51,
    "start_time": "2023-08-26T11:51:26.746Z"
   },
   {
    "duration": 7,
    "start_time": "2023-08-26T11:52:52.117Z"
   },
   {
    "duration": 1268,
    "start_time": "2023-08-26T11:53:07.272Z"
   },
   {
    "duration": 128,
    "start_time": "2023-08-26T11:53:08.542Z"
   },
   {
    "duration": 3,
    "start_time": "2023-08-26T11:53:08.672Z"
   },
   {
    "duration": 20,
    "start_time": "2023-08-26T11:53:08.677Z"
   },
   {
    "duration": 12,
    "start_time": "2023-08-26T11:53:08.699Z"
   },
   {
    "duration": 1217,
    "start_time": "2023-08-26T11:53:08.713Z"
   },
   {
    "duration": 3,
    "start_time": "2023-08-26T11:53:09.932Z"
   },
   {
    "duration": 13,
    "start_time": "2023-08-26T11:53:09.937Z"
   },
   {
    "duration": 52,
    "start_time": "2023-08-26T11:53:09.960Z"
   },
   {
    "duration": 216,
    "start_time": "2023-08-26T11:53:10.014Z"
   },
   {
    "duration": 111,
    "start_time": "2023-08-26T11:55:35.717Z"
   },
   {
    "duration": 184,
    "start_time": "2023-08-26T11:56:41.382Z"
   },
   {
    "duration": 82,
    "start_time": "2023-08-26T11:57:25.291Z"
   },
   {
    "duration": 3512,
    "start_time": "2023-08-26T11:57:35.225Z"
   },
   {
    "duration": 4028,
    "start_time": "2023-08-26T11:58:52.765Z"
   },
   {
    "duration": 1670,
    "start_time": "2023-08-26T11:59:39.772Z"
   },
   {
    "duration": 1706,
    "start_time": "2023-08-26T11:59:56.092Z"
   },
   {
    "duration": 1657,
    "start_time": "2023-08-26T12:00:07.415Z"
   },
   {
    "duration": 3,
    "start_time": "2023-08-26T12:00:27.458Z"
   },
   {
    "duration": 1667,
    "start_time": "2023-08-26T12:00:31.484Z"
   },
   {
    "duration": 4218,
    "start_time": "2023-08-26T12:06:17.704Z"
   },
   {
    "duration": 27,
    "start_time": "2023-08-26T12:18:44.568Z"
   },
   {
    "duration": 22,
    "start_time": "2023-08-26T12:19:24.288Z"
   },
   {
    "duration": 2969,
    "start_time": "2023-08-26T12:24:11.559Z"
   },
   {
    "duration": 19,
    "start_time": "2023-08-26T12:26:00.859Z"
   },
   {
    "duration": 10,
    "start_time": "2023-08-26T12:26:27.570Z"
   },
   {
    "duration": 14,
    "start_time": "2023-08-26T12:26:33.865Z"
   },
   {
    "duration": 7,
    "start_time": "2023-08-26T12:28:48.685Z"
   },
   {
    "duration": 3137,
    "start_time": "2023-08-26T12:44:38.556Z"
   },
   {
    "duration": 3,
    "start_time": "2023-08-26T12:44:48.933Z"
   },
   {
    "duration": 2981,
    "start_time": "2023-08-26T12:44:54.161Z"
   },
   {
    "duration": 4796,
    "start_time": "2023-08-26T12:47:45.937Z"
   },
   {
    "duration": 4842,
    "start_time": "2023-08-26T12:48:10.452Z"
   },
   {
    "duration": 4609,
    "start_time": "2023-08-26T12:49:46.571Z"
   },
   {
    "duration": 1648,
    "start_time": "2023-08-26T12:53:22.472Z"
   },
   {
    "duration": 1633,
    "start_time": "2023-08-26T12:53:59.438Z"
   },
   {
    "duration": 1376,
    "start_time": "2023-08-26T12:54:13.722Z"
   },
   {
    "duration": 34,
    "start_time": "2023-08-26T12:54:15.100Z"
   },
   {
    "duration": 4,
    "start_time": "2023-08-26T12:54:15.138Z"
   },
   {
    "duration": 49,
    "start_time": "2023-08-26T12:54:15.144Z"
   },
   {
    "duration": 17,
    "start_time": "2023-08-26T12:54:15.195Z"
   },
   {
    "duration": 1488,
    "start_time": "2023-08-26T12:54:15.214Z"
   },
   {
    "duration": 4,
    "start_time": "2023-08-26T12:54:16.704Z"
   },
   {
    "duration": 18,
    "start_time": "2023-08-26T12:54:16.710Z"
   },
   {
    "duration": 65,
    "start_time": "2023-08-26T12:54:16.730Z"
   },
   {
    "duration": 7,
    "start_time": "2023-08-26T12:54:16.797Z"
   },
   {
    "duration": 20,
    "start_time": "2023-08-26T12:54:16.805Z"
   },
   {
    "duration": 3472,
    "start_time": "2023-08-26T12:54:16.827Z"
   },
   {
    "duration": 1580,
    "start_time": "2023-08-26T12:54:20.301Z"
   },
   {
    "duration": 2106,
    "start_time": "2023-08-26T12:54:21.884Z"
   },
   {
    "duration": 1500,
    "start_time": "2023-08-26T12:54:49.539Z"
   },
   {
    "duration": 1672,
    "start_time": "2023-08-26T12:55:04.156Z"
   },
   {
    "duration": 1608,
    "start_time": "2023-08-26T12:55:18.949Z"
   },
   {
    "duration": 1333,
    "start_time": "2023-08-26T12:55:26.793Z"
   },
   {
    "duration": 40,
    "start_time": "2023-08-26T12:55:28.128Z"
   },
   {
    "duration": 10,
    "start_time": "2023-08-26T12:55:28.170Z"
   },
   {
    "duration": 22,
    "start_time": "2023-08-26T12:55:28.187Z"
   },
   {
    "duration": 13,
    "start_time": "2023-08-26T12:55:28.211Z"
   },
   {
    "duration": 1420,
    "start_time": "2023-08-26T12:55:28.226Z"
   },
   {
    "duration": 18,
    "start_time": "2023-08-26T12:55:29.648Z"
   },
   {
    "duration": 12,
    "start_time": "2023-08-26T12:55:29.678Z"
   },
   {
    "duration": 55,
    "start_time": "2023-08-26T12:55:29.692Z"
   },
   {
    "duration": 6,
    "start_time": "2023-08-26T12:55:29.750Z"
   },
   {
    "duration": 25,
    "start_time": "2023-08-26T12:55:29.758Z"
   },
   {
    "duration": 3413,
    "start_time": "2023-08-26T12:55:29.785Z"
   },
   {
    "duration": 1634,
    "start_time": "2023-08-26T12:55:33.199Z"
   },
   {
    "duration": 2109,
    "start_time": "2023-08-26T12:55:34.835Z"
   },
   {
    "duration": 1544,
    "start_time": "2023-08-26T12:56:02.256Z"
   },
   {
    "duration": 1547,
    "start_time": "2023-08-26T12:56:07.906Z"
   },
   {
    "duration": 1705,
    "start_time": "2023-08-26T12:56:27.611Z"
   },
   {
    "duration": 2913,
    "start_time": "2023-08-26T13:20:53.532Z"
   },
   {
    "duration": 1421,
    "start_time": "2023-08-26T13:20:59.633Z"
   },
   {
    "duration": 43,
    "start_time": "2023-08-26T13:21:01.057Z"
   },
   {
    "duration": 9,
    "start_time": "2023-08-26T13:21:01.104Z"
   },
   {
    "duration": 72,
    "start_time": "2023-08-26T13:21:01.115Z"
   },
   {
    "duration": 41,
    "start_time": "2023-08-26T13:21:01.189Z"
   },
   {
    "duration": 1386,
    "start_time": "2023-08-26T13:21:01.232Z"
   },
   {
    "duration": 3,
    "start_time": "2023-08-26T13:21:02.619Z"
   },
   {
    "duration": 15,
    "start_time": "2023-08-26T13:21:02.624Z"
   },
   {
    "duration": 74,
    "start_time": "2023-08-26T13:21:02.641Z"
   },
   {
    "duration": 12,
    "start_time": "2023-08-26T13:21:02.716Z"
   },
   {
    "duration": 3123,
    "start_time": "2023-08-26T13:21:02.730Z"
   },
   {
    "duration": 2850,
    "start_time": "2023-08-26T13:21:05.858Z"
   },
   {
    "duration": 1613,
    "start_time": "2023-08-26T13:21:08.712Z"
   },
   {
    "duration": 0,
    "start_time": "2023-08-26T13:21:10.327Z"
   },
   {
    "duration": 1523,
    "start_time": "2023-08-26T13:23:44.930Z"
   },
   {
    "duration": 1484,
    "start_time": "2023-08-26T13:24:59.192Z"
   },
   {
    "duration": 1894,
    "start_time": "2023-08-26T13:27:25.506Z"
   },
   {
    "duration": 21,
    "start_time": "2023-08-26T13:29:12.826Z"
   },
   {
    "duration": 35,
    "start_time": "2023-08-26T13:29:54.040Z"
   },
   {
    "duration": 344,
    "start_time": "2023-08-26T13:33:10.849Z"
   },
   {
    "duration": 18,
    "start_time": "2023-08-26T13:34:11.974Z"
   },
   {
    "duration": 413,
    "start_time": "2023-08-26T13:34:24.154Z"
   },
   {
    "duration": 581,
    "start_time": "2023-08-26T13:34:52.205Z"
   },
   {
    "duration": 584,
    "start_time": "2023-08-26T13:35:03.244Z"
   },
   {
    "duration": 579,
    "start_time": "2023-08-26T13:35:12.569Z"
   },
   {
    "duration": 731,
    "start_time": "2023-08-26T13:35:45.208Z"
   },
   {
    "duration": 628,
    "start_time": "2023-08-26T13:37:16.611Z"
   },
   {
    "duration": 13,
    "start_time": "2023-08-26T13:46:22.809Z"
   },
   {
    "duration": 460,
    "start_time": "2023-08-26T13:46:49.272Z"
   },
   {
    "duration": 223,
    "start_time": "2023-08-26T13:46:54.454Z"
   },
   {
    "duration": 134,
    "start_time": "2023-08-26T13:48:40.941Z"
   },
   {
    "duration": 4,
    "start_time": "2023-08-26T13:49:32.275Z"
   },
   {
    "duration": 3,
    "start_time": "2023-08-26T13:49:33.652Z"
   },
   {
    "duration": 129,
    "start_time": "2023-08-26T13:49:37.645Z"
   },
   {
    "duration": 19,
    "start_time": "2023-08-26T13:53:41.217Z"
   },
   {
    "duration": 30,
    "start_time": "2023-08-26T13:54:13.278Z"
   },
   {
    "duration": 25,
    "start_time": "2023-08-26T13:54:16.652Z"
   },
   {
    "duration": 5,
    "start_time": "2023-08-26T13:54:29.430Z"
   },
   {
    "duration": 5,
    "start_time": "2023-08-26T13:54:30.604Z"
   },
   {
    "duration": 4,
    "start_time": "2023-08-26T13:54:53.269Z"
   },
   {
    "duration": 423,
    "start_time": "2023-08-26T13:54:56.353Z"
   },
   {
    "duration": 1549,
    "start_time": "2023-08-27T10:59:17.612Z"
   },
   {
    "duration": 70,
    "start_time": "2023-08-27T10:59:19.163Z"
   },
   {
    "duration": 3,
    "start_time": "2023-08-27T10:59:19.235Z"
   },
   {
    "duration": 19,
    "start_time": "2023-08-27T10:59:19.240Z"
   },
   {
    "duration": 11,
    "start_time": "2023-08-27T10:59:19.260Z"
   },
   {
    "duration": 1193,
    "start_time": "2023-08-27T10:59:19.273Z"
   },
   {
    "duration": 4,
    "start_time": "2023-08-27T10:59:20.468Z"
   },
   {
    "duration": 18,
    "start_time": "2023-08-27T10:59:20.474Z"
   },
   {
    "duration": 65,
    "start_time": "2023-08-27T10:59:20.494Z"
   },
   {
    "duration": 13,
    "start_time": "2023-08-27T10:59:20.562Z"
   },
   {
    "duration": 2483,
    "start_time": "2023-08-27T10:59:20.576Z"
   },
   {
    "duration": 1409,
    "start_time": "2023-08-27T10:59:23.060Z"
   },
   {
    "duration": 1574,
    "start_time": "2023-08-27T10:59:24.471Z"
   },
   {
    "duration": 481,
    "start_time": "2023-08-27T10:59:26.047Z"
   },
   {
    "duration": 2,
    "start_time": "2023-08-27T10:59:26.533Z"
   },
   {
    "duration": 199,
    "start_time": "2023-08-27T10:59:26.537Z"
   },
   {
    "duration": 453,
    "start_time": "2023-08-27T10:59:26.738Z"
   },
   {
    "duration": 3405,
    "start_time": "2023-08-27T11:26:25.097Z"
   },
   {
    "duration": 109,
    "start_time": "2023-08-27T11:40:10.841Z"
   },
   {
    "duration": 17,
    "start_time": "2023-08-27T11:40:31.457Z"
   },
   {
    "duration": 17,
    "start_time": "2023-08-27T11:40:37.448Z"
   },
   {
    "duration": 1740,
    "start_time": "2023-08-27T11:40:40.511Z"
   },
   {
    "duration": 3,
    "start_time": "2023-08-27T11:41:12.225Z"
   },
   {
    "duration": 30792,
    "start_time": "2023-08-27T11:41:18.090Z"
   },
   {
    "duration": 1352,
    "start_time": "2023-08-27T11:42:42.198Z"
   },
   {
    "duration": 33,
    "start_time": "2023-08-27T11:42:43.551Z"
   },
   {
    "duration": 3,
    "start_time": "2023-08-27T11:42:43.586Z"
   },
   {
    "duration": 37,
    "start_time": "2023-08-27T11:42:43.591Z"
   },
   {
    "duration": 10,
    "start_time": "2023-08-27T11:42:43.630Z"
   },
   {
    "duration": 1318,
    "start_time": "2023-08-27T11:42:43.641Z"
   },
   {
    "duration": 3,
    "start_time": "2023-08-27T11:42:44.961Z"
   },
   {
    "duration": 29,
    "start_time": "2023-08-27T11:42:44.965Z"
   },
   {
    "duration": 78,
    "start_time": "2023-08-27T11:42:44.995Z"
   },
   {
    "duration": 34,
    "start_time": "2023-08-27T11:42:45.076Z"
   },
   {
    "duration": 3500,
    "start_time": "2023-08-27T11:42:45.112Z"
   },
   {
    "duration": 1320,
    "start_time": "2023-08-27T11:42:48.613Z"
   },
   {
    "duration": 1635,
    "start_time": "2023-08-27T11:42:49.935Z"
   },
   {
    "duration": 515,
    "start_time": "2023-08-27T11:42:51.572Z"
   },
   {
    "duration": 2,
    "start_time": "2023-08-27T11:42:52.089Z"
   },
   {
    "duration": 50,
    "start_time": "2023-08-27T11:42:52.092Z"
   },
   {
    "duration": 542,
    "start_time": "2023-08-27T11:42:52.144Z"
   },
   {
    "duration": 30555,
    "start_time": "2023-08-27T11:42:52.687Z"
   },
   {
    "duration": 130,
    "start_time": "2023-08-27T11:43:23.243Z"
   },
   {
    "duration": 1046,
    "start_time": "2023-08-27T12:00:24.192Z"
   },
   {
    "duration": 102,
    "start_time": "2023-08-27T12:00:25.241Z"
   },
   {
    "duration": 34658,
    "start_time": "2023-08-27T12:00:45.090Z"
   },
   {
    "duration": 17,
    "start_time": "2023-08-27T12:03:11.857Z"
   },
   {
    "duration": 17,
    "start_time": "2023-08-27T12:03:31.171Z"
   },
   {
    "duration": 15,
    "start_time": "2023-08-27T12:05:45.472Z"
   },
   {
    "duration": 939,
    "start_time": "2023-08-27T12:07:35.901Z"
   },
   {
    "duration": 14,
    "start_time": "2023-08-27T12:07:38.344Z"
   },
   {
    "duration": 4,
    "start_time": "2023-08-27T12:08:58.436Z"
   },
   {
    "duration": 1503,
    "start_time": "2023-08-27T12:10:19.022Z"
   },
   {
    "duration": 32,
    "start_time": "2023-08-27T12:10:20.527Z"
   },
   {
    "duration": 4,
    "start_time": "2023-08-27T12:10:20.561Z"
   },
   {
    "duration": 29,
    "start_time": "2023-08-27T12:10:20.567Z"
   },
   {
    "duration": 14,
    "start_time": "2023-08-27T12:10:20.599Z"
   },
   {
    "duration": 1163,
    "start_time": "2023-08-27T12:10:20.615Z"
   },
   {
    "duration": 3,
    "start_time": "2023-08-27T12:10:21.779Z"
   },
   {
    "duration": 116,
    "start_time": "2023-08-27T12:10:21.784Z"
   },
   {
    "duration": 129,
    "start_time": "2023-08-27T12:10:21.902Z"
   },
   {
    "duration": 17,
    "start_time": "2023-08-27T12:10:22.033Z"
   },
   {
    "duration": 3713,
    "start_time": "2023-08-27T12:10:22.052Z"
   },
   {
    "duration": 1360,
    "start_time": "2023-08-27T12:10:25.767Z"
   },
   {
    "duration": 1602,
    "start_time": "2023-08-27T12:10:27.129Z"
   },
   {
    "duration": 505,
    "start_time": "2023-08-27T12:10:28.733Z"
   },
   {
    "duration": 3,
    "start_time": "2023-08-27T12:10:29.240Z"
   },
   {
    "duration": 99,
    "start_time": "2023-08-27T12:10:29.244Z"
   },
   {
    "duration": 525,
    "start_time": "2023-08-27T12:10:29.346Z"
   },
   {
    "duration": 7,
    "start_time": "2023-08-27T12:10:29.873Z"
   },
   {
    "duration": 133,
    "start_time": "2023-08-27T12:10:29.882Z"
   },
   {
    "duration": 0,
    "start_time": "2023-08-27T12:10:30.018Z"
   },
   {
    "duration": 0,
    "start_time": "2023-08-27T12:10:30.019Z"
   },
   {
    "duration": 0,
    "start_time": "2023-08-27T12:10:30.020Z"
   },
   {
    "duration": 8,
    "start_time": "2023-08-27T12:11:21.857Z"
   },
   {
    "duration": 105887,
    "start_time": "2023-08-27T12:11:23.087Z"
   },
   {
    "duration": 106532,
    "start_time": "2023-08-27T12:16:12.896Z"
   },
   {
    "duration": 1562,
    "start_time": "2023-08-27T12:28:13.482Z"
   },
   {
    "duration": 14,
    "start_time": "2023-08-27T12:28:15.601Z"
   },
   {
    "duration": 14,
    "start_time": "2023-08-27T12:34:16.866Z"
   },
   {
    "duration": 95,
    "start_time": "2023-08-27T12:35:04.939Z"
   },
   {
    "duration": 1312,
    "start_time": "2023-08-27T12:35:25.778Z"
   },
   {
    "duration": 33,
    "start_time": "2023-08-27T12:35:27.091Z"
   },
   {
    "duration": 3,
    "start_time": "2023-08-27T12:35:27.125Z"
   },
   {
    "duration": 24,
    "start_time": "2023-08-27T12:35:27.130Z"
   },
   {
    "duration": 10,
    "start_time": "2023-08-27T12:35:27.156Z"
   },
   {
    "duration": 1112,
    "start_time": "2023-08-27T12:35:27.167Z"
   },
   {
    "duration": 3,
    "start_time": "2023-08-27T12:35:28.280Z"
   },
   {
    "duration": 25,
    "start_time": "2023-08-27T12:35:28.286Z"
   },
   {
    "duration": 49,
    "start_time": "2023-08-27T12:35:28.312Z"
   },
   {
    "duration": 12,
    "start_time": "2023-08-27T12:35:28.362Z"
   },
   {
    "duration": 3510,
    "start_time": "2023-08-27T12:35:28.375Z"
   },
   {
    "duration": 1338,
    "start_time": "2023-08-27T12:35:31.887Z"
   },
   {
    "duration": 1681,
    "start_time": "2023-08-27T12:35:33.227Z"
   },
   {
    "duration": 517,
    "start_time": "2023-08-27T12:35:34.911Z"
   },
   {
    "duration": 4,
    "start_time": "2023-08-27T12:35:35.430Z"
   },
   {
    "duration": 99,
    "start_time": "2023-08-27T12:35:35.436Z"
   },
   {
    "duration": 436,
    "start_time": "2023-08-27T12:35:35.537Z"
   },
   {
    "duration": 7,
    "start_time": "2023-08-27T12:35:35.974Z"
   },
   {
    "duration": 104695,
    "start_time": "2023-08-27T12:35:35.982Z"
   },
   {
    "duration": 1556,
    "start_time": "2023-08-27T12:37:20.678Z"
   },
   {
    "duration": 16,
    "start_time": "2023-08-27T12:37:22.235Z"
   },
   {
    "duration": 79,
    "start_time": "2023-08-27T12:37:22.252Z"
   },
   {
    "duration": 114,
    "start_time": "2023-08-27T12:37:42.084Z"
   },
   {
    "duration": 10,
    "start_time": "2023-08-27T12:37:53.425Z"
   },
   {
    "duration": 12,
    "start_time": "2023-08-27T12:40:33.293Z"
   },
   {
    "duration": 6,
    "start_time": "2023-08-27T12:40:59.339Z"
   },
   {
    "duration": 7,
    "start_time": "2023-08-27T12:41:14.994Z"
   },
   {
    "duration": 10,
    "start_time": "2023-08-27T12:41:26.761Z"
   },
   {
    "duration": 11,
    "start_time": "2023-08-27T12:41:34.687Z"
   },
   {
    "duration": 6,
    "start_time": "2023-08-27T12:41:41.365Z"
   },
   {
    "duration": 10,
    "start_time": "2023-08-27T12:42:05.886Z"
   },
   {
    "duration": 5,
    "start_time": "2023-08-27T12:42:13.712Z"
   },
   {
    "duration": 9,
    "start_time": "2023-08-27T12:42:28.901Z"
   },
   {
    "duration": 10,
    "start_time": "2023-08-27T12:43:17.112Z"
   },
   {
    "duration": 7,
    "start_time": "2023-08-27T12:43:33.544Z"
   },
   {
    "duration": 12,
    "start_time": "2023-08-27T12:44:12.602Z"
   },
   {
    "duration": 11,
    "start_time": "2023-08-27T12:44:18.425Z"
   },
   {
    "duration": 11,
    "start_time": "2023-08-27T12:44:22.629Z"
   },
   {
    "duration": 11,
    "start_time": "2023-08-27T12:44:41.627Z"
   },
   {
    "duration": 11,
    "start_time": "2023-08-27T12:45:33.783Z"
   },
   {
    "duration": 14,
    "start_time": "2023-08-27T12:45:43.369Z"
   },
   {
    "duration": 11,
    "start_time": "2023-08-27T12:45:47.893Z"
   },
   {
    "duration": 13,
    "start_time": "2023-08-27T12:47:06.842Z"
   },
   {
    "duration": 12,
    "start_time": "2023-08-27T12:47:24.471Z"
   },
   {
    "duration": 12,
    "start_time": "2023-08-27T12:47:31.451Z"
   },
   {
    "duration": 12,
    "start_time": "2023-08-27T12:47:39.346Z"
   },
   {
    "duration": 8,
    "start_time": "2023-08-27T12:48:29.365Z"
   },
   {
    "duration": 6,
    "start_time": "2023-08-27T12:48:42.165Z"
   },
   {
    "duration": 8,
    "start_time": "2023-08-27T12:49:03.962Z"
   },
   {
    "duration": 9,
    "start_time": "2023-08-27T12:49:19.184Z"
   },
   {
    "duration": 13,
    "start_time": "2023-08-27T12:49:27.860Z"
   },
   {
    "duration": 11,
    "start_time": "2023-08-27T12:50:54.971Z"
   },
   {
    "duration": 1858,
    "start_time": "2023-08-27T12:57:39.330Z"
   },
   {
    "duration": 19,
    "start_time": "2023-08-27T12:58:16.151Z"
   },
   {
    "duration": 19,
    "start_time": "2023-08-27T12:58:29.203Z"
   },
   {
    "duration": 1044,
    "start_time": "2023-08-27T12:58:44.377Z"
   },
   {
    "duration": 1697,
    "start_time": "2023-08-28T11:28:14.259Z"
   },
   {
    "duration": 134,
    "start_time": "2023-08-28T11:28:15.959Z"
   },
   {
    "duration": 4,
    "start_time": "2023-08-28T11:28:16.095Z"
   },
   {
    "duration": 30,
    "start_time": "2023-08-28T11:28:16.101Z"
   },
   {
    "duration": 12,
    "start_time": "2023-08-28T11:28:16.133Z"
   },
   {
    "duration": 1325,
    "start_time": "2023-08-28T11:28:16.146Z"
   },
   {
    "duration": 3,
    "start_time": "2023-08-28T11:28:17.473Z"
   },
   {
    "duration": 24,
    "start_time": "2023-08-28T11:28:17.477Z"
   },
   {
    "duration": 55,
    "start_time": "2023-08-28T11:28:17.503Z"
   },
   {
    "duration": 14,
    "start_time": "2023-08-28T11:28:17.560Z"
   },
   {
    "duration": 4398,
    "start_time": "2023-08-28T11:28:17.576Z"
   },
   {
    "duration": 1565,
    "start_time": "2023-08-28T11:28:21.976Z"
   },
   {
    "duration": 1973,
    "start_time": "2023-08-28T11:28:23.543Z"
   },
   {
    "duration": 572,
    "start_time": "2023-08-28T11:28:25.519Z"
   },
   {
    "duration": 3,
    "start_time": "2023-08-28T11:28:26.092Z"
   },
   {
    "duration": 67,
    "start_time": "2023-08-28T11:28:26.096Z"
   },
   {
    "duration": 549,
    "start_time": "2023-08-28T11:28:26.165Z"
   },
   {
    "duration": 8,
    "start_time": "2023-08-28T11:28:26.715Z"
   },
   {
    "duration": 114101,
    "start_time": "2023-08-28T11:28:26.725Z"
   },
   {
    "duration": 1836,
    "start_time": "2023-08-28T11:30:20.829Z"
   },
   {
    "duration": 100,
    "start_time": "2023-08-28T11:30:22.670Z"
   },
   {
    "duration": 9,
    "start_time": "2023-08-28T11:30:22.771Z"
   },
   {
    "duration": 128,
    "start_time": "2023-08-28T11:30:22.782Z"
   },
   {
    "duration": 0,
    "start_time": "2023-08-28T11:30:22.912Z"
   },
   {
    "duration": 0,
    "start_time": "2023-08-28T11:30:22.914Z"
   },
   {
    "duration": 937,
    "start_time": "2023-08-28T11:52:13.901Z"
   },
   {
    "duration": 4087,
    "start_time": "2023-08-28T11:52:58.400Z"
   },
   {
    "duration": 3939,
    "start_time": "2023-08-28T11:55:32.838Z"
   },
   {
    "duration": 6396,
    "start_time": "2023-08-28T11:56:49.258Z"
   },
   {
    "duration": 10,
    "start_time": "2023-08-28T12:02:39.303Z"
   },
   {
    "duration": 11,
    "start_time": "2023-08-28T12:20:26.390Z"
   },
   {
    "duration": 43,
    "start_time": "2023-08-29T12:24:27.532Z"
   },
   {
    "duration": 1587,
    "start_time": "2023-08-29T12:24:34.588Z"
   },
   {
    "duration": 73,
    "start_time": "2023-08-29T12:24:36.177Z"
   },
   {
    "duration": 3,
    "start_time": "2023-08-29T12:24:36.252Z"
   },
   {
    "duration": 55,
    "start_time": "2023-08-29T12:24:36.257Z"
   },
   {
    "duration": 24,
    "start_time": "2023-08-29T12:24:36.314Z"
   },
   {
    "duration": 1157,
    "start_time": "2023-08-29T12:24:36.340Z"
   },
   {
    "duration": 3,
    "start_time": "2023-08-29T12:24:37.499Z"
   },
   {
    "duration": 24,
    "start_time": "2023-08-29T12:24:37.503Z"
   },
   {
    "duration": 52,
    "start_time": "2023-08-29T12:24:37.529Z"
   },
   {
    "duration": 13,
    "start_time": "2023-08-29T12:24:37.583Z"
   },
   {
    "duration": 3651,
    "start_time": "2023-08-29T12:24:37.598Z"
   },
   {
    "duration": 1421,
    "start_time": "2023-08-29T12:24:41.251Z"
   },
   {
    "duration": 1595,
    "start_time": "2023-08-29T12:24:42.674Z"
   },
   {
    "duration": 560,
    "start_time": "2023-08-29T12:24:44.272Z"
   },
   {
    "duration": 2,
    "start_time": "2023-08-29T12:24:44.834Z"
   },
   {
    "duration": 125,
    "start_time": "2023-08-29T12:24:44.838Z"
   },
   {
    "duration": 425,
    "start_time": "2023-08-29T12:24:45.051Z"
   },
   {
    "duration": 8,
    "start_time": "2023-08-29T12:24:45.477Z"
   },
   {
    "duration": 104072,
    "start_time": "2023-08-29T12:24:45.486Z"
   },
   {
    "duration": 1499,
    "start_time": "2023-08-29T12:26:29.560Z"
   },
   {
    "duration": 15,
    "start_time": "2023-08-29T12:26:31.150Z"
   },
   {
    "duration": 153,
    "start_time": "2023-08-29T12:26:31.167Z"
   },
   {
    "duration": 905,
    "start_time": "2023-08-29T12:26:31.321Z"
   },
   {
    "duration": 5937,
    "start_time": "2023-08-29T12:26:32.228Z"
   },
   {
    "duration": 11,
    "start_time": "2023-08-29T12:26:38.166Z"
   },
   {
    "duration": 4,
    "start_time": "2023-08-29T12:30:01.160Z"
   },
   {
    "duration": 1473,
    "start_time": "2023-08-29T12:30:27.259Z"
   },
   {
    "duration": 33,
    "start_time": "2023-08-29T12:30:28.733Z"
   },
   {
    "duration": 2,
    "start_time": "2023-08-29T12:30:28.768Z"
   },
   {
    "duration": 32,
    "start_time": "2023-08-29T12:30:28.772Z"
   },
   {
    "duration": 18,
    "start_time": "2023-08-29T12:30:28.806Z"
   },
   {
    "duration": 1099,
    "start_time": "2023-08-29T12:30:28.825Z"
   },
   {
    "duration": 4,
    "start_time": "2023-08-29T12:30:29.925Z"
   },
   {
    "duration": 43,
    "start_time": "2023-08-29T12:30:29.930Z"
   },
   {
    "duration": 56,
    "start_time": "2023-08-29T12:30:29.974Z"
   },
   {
    "duration": 10,
    "start_time": "2023-08-29T12:30:30.033Z"
   },
   {
    "duration": 3413,
    "start_time": "2023-08-29T12:30:30.044Z"
   },
   {
    "duration": 1326,
    "start_time": "2023-08-29T12:30:33.458Z"
   },
   {
    "duration": 1651,
    "start_time": "2023-08-29T12:30:34.786Z"
   },
   {
    "duration": 514,
    "start_time": "2023-08-29T12:30:36.439Z"
   },
   {
    "duration": 2,
    "start_time": "2023-08-29T12:30:36.955Z"
   },
   {
    "duration": 94,
    "start_time": "2023-08-29T12:30:36.958Z"
   },
   {
    "duration": 458,
    "start_time": "2023-08-29T12:30:37.054Z"
   },
   {
    "duration": 8,
    "start_time": "2023-08-29T12:30:37.514Z"
   },
   {
    "duration": 102048,
    "start_time": "2023-08-29T12:30:37.523Z"
   },
   {
    "duration": 1183,
    "start_time": "2023-08-29T12:32:19.572Z"
   },
   {
    "duration": 101,
    "start_time": "2023-08-29T12:32:20.758Z"
   },
   {
    "duration": 20,
    "start_time": "2023-08-29T12:32:20.860Z"
   },
   {
    "duration": 848,
    "start_time": "2023-08-29T12:32:20.881Z"
   },
   {
    "duration": 5876,
    "start_time": "2023-08-29T12:32:21.731Z"
   },
   {
    "duration": 9,
    "start_time": "2023-08-29T12:32:27.609Z"
   },
   {
    "duration": 2042,
    "start_time": "2023-08-29T12:40:56.597Z"
   },
   {
    "duration": 11,
    "start_time": "2023-08-29T12:41:25.290Z"
   },
   {
    "duration": 5,
    "start_time": "2023-08-29T12:41:35.625Z"
   },
   {
    "duration": 13,
    "start_time": "2023-08-29T12:41:38.192Z"
   },
   {
    "duration": 5,
    "start_time": "2023-08-29T12:56:00.230Z"
   },
   {
    "duration": 12,
    "start_time": "2023-08-29T12:56:02.090Z"
   },
   {
    "duration": 3912,
    "start_time": "2023-08-29T13:02:20.702Z"
   },
   {
    "duration": 3914,
    "start_time": "2023-08-29T13:03:13.041Z"
   },
   {
    "duration": 5497,
    "start_time": "2023-08-29T13:14:30.165Z"
   },
   {
    "duration": 89,
    "start_time": "2023-08-29T13:19:54.261Z"
   },
   {
    "duration": 306,
    "start_time": "2023-08-29T13:21:10.013Z"
   },
   {
    "duration": 323,
    "start_time": "2023-08-29T13:21:50.438Z"
   },
   {
    "duration": 322,
    "start_time": "2023-08-29T13:22:48.225Z"
   },
   {
    "duration": 116,
    "start_time": "2023-08-29T13:23:23.134Z"
   },
   {
    "duration": 329,
    "start_time": "2023-08-29T13:23:43.533Z"
   },
   {
    "duration": 1599,
    "start_time": "2023-08-29T13:23:50.344Z"
   },
   {
    "duration": 33,
    "start_time": "2023-08-29T13:23:51.945Z"
   },
   {
    "duration": 3,
    "start_time": "2023-08-29T13:23:51.980Z"
   },
   {
    "duration": 19,
    "start_time": "2023-08-29T13:23:51.985Z"
   },
   {
    "duration": 12,
    "start_time": "2023-08-29T13:23:52.006Z"
   },
   {
    "duration": 1164,
    "start_time": "2023-08-29T13:23:52.020Z"
   },
   {
    "duration": 4,
    "start_time": "2023-08-29T13:23:53.185Z"
   },
   {
    "duration": 13,
    "start_time": "2023-08-29T13:23:53.191Z"
   },
   {
    "duration": 64,
    "start_time": "2023-08-29T13:23:53.206Z"
   },
   {
    "duration": 70,
    "start_time": "2023-08-29T13:23:53.272Z"
   },
   {
    "duration": 12,
    "start_time": "2023-08-29T13:23:53.343Z"
   },
   {
    "duration": 3572,
    "start_time": "2023-08-29T13:23:53.356Z"
   },
   {
    "duration": 1355,
    "start_time": "2023-08-29T13:23:56.929Z"
   },
   {
    "duration": 1689,
    "start_time": "2023-08-29T13:23:58.287Z"
   },
   {
    "duration": 531,
    "start_time": "2023-08-29T13:23:59.977Z"
   },
   {
    "duration": 2,
    "start_time": "2023-08-29T13:24:00.510Z"
   },
   {
    "duration": 238,
    "start_time": "2023-08-29T13:24:00.513Z"
   },
   {
    "duration": 445,
    "start_time": "2023-08-29T13:24:00.753Z"
   },
   {
    "duration": 14,
    "start_time": "2023-08-29T13:24:01.200Z"
   },
   {
    "duration": 99739,
    "start_time": "2023-08-29T13:24:01.215Z"
   },
   {
    "duration": 1597,
    "start_time": "2023-08-29T13:25:40.955Z"
   },
   {
    "duration": 13,
    "start_time": "2023-08-29T13:25:42.554Z"
   },
   {
    "duration": 8,
    "start_time": "2023-08-29T13:25:42.568Z"
   },
   {
    "duration": 134,
    "start_time": "2023-08-29T13:25:42.577Z"
   },
   {
    "duration": 0,
    "start_time": "2023-08-29T13:25:42.712Z"
   },
   {
    "duration": 0,
    "start_time": "2023-08-29T13:25:42.713Z"
   },
   {
    "duration": 18,
    "start_time": "2023-08-29T13:30:17.886Z"
   },
   {
    "duration": 1394,
    "start_time": "2023-08-29T13:31:27.884Z"
   },
   {
    "duration": 33,
    "start_time": "2023-08-29T13:31:29.280Z"
   },
   {
    "duration": 4,
    "start_time": "2023-08-29T13:31:29.314Z"
   },
   {
    "duration": 23,
    "start_time": "2023-08-29T13:31:29.319Z"
   },
   {
    "duration": 10,
    "start_time": "2023-08-29T13:31:29.343Z"
   },
   {
    "duration": 1060,
    "start_time": "2023-08-29T13:31:29.354Z"
   },
   {
    "duration": 4,
    "start_time": "2023-08-29T13:31:30.415Z"
   },
   {
    "duration": 52,
    "start_time": "2023-08-29T13:31:30.420Z"
   },
   {
    "duration": 58,
    "start_time": "2023-08-29T13:31:30.474Z"
   },
   {
    "duration": 132,
    "start_time": "2023-08-29T13:31:30.534Z"
   },
   {
    "duration": 12,
    "start_time": "2023-08-29T13:31:30.667Z"
   },
   {
    "duration": 3419,
    "start_time": "2023-08-29T13:31:30.681Z"
   },
   {
    "duration": 1279,
    "start_time": "2023-08-29T13:31:34.101Z"
   },
   {
    "duration": 1644,
    "start_time": "2023-08-29T13:31:35.382Z"
   },
   {
    "duration": 514,
    "start_time": "2023-08-29T13:31:37.027Z"
   },
   {
    "duration": 7,
    "start_time": "2023-08-29T13:31:37.543Z"
   },
   {
    "duration": 101,
    "start_time": "2023-08-29T13:31:37.551Z"
   },
   {
    "duration": 486,
    "start_time": "2023-08-29T13:31:37.654Z"
   },
   {
    "duration": 13,
    "start_time": "2023-08-29T13:31:38.142Z"
   },
   {
    "duration": 99653,
    "start_time": "2023-08-29T13:31:38.156Z"
   },
   {
    "duration": 1539,
    "start_time": "2023-08-29T13:33:17.811Z"
   },
   {
    "duration": 105,
    "start_time": "2023-08-29T13:33:19.352Z"
   },
   {
    "duration": 11,
    "start_time": "2023-08-29T13:33:19.459Z"
   },
   {
    "duration": 839,
    "start_time": "2023-08-29T13:33:19.472Z"
   },
   {
    "duration": 5512,
    "start_time": "2023-08-29T13:33:20.313Z"
   },
   {
    "duration": 9,
    "start_time": "2023-08-29T13:33:25.827Z"
   },
   {
    "duration": 3577,
    "start_time": "2023-08-29T13:33:29.370Z"
   },
   {
    "duration": 50,
    "start_time": "2023-08-30T17:55:37.491Z"
   },
   {
    "duration": 1739,
    "start_time": "2023-08-30T17:55:43.489Z"
   },
   {
    "duration": 129,
    "start_time": "2023-08-30T17:55:45.230Z"
   },
   {
    "duration": 4,
    "start_time": "2023-08-30T17:55:45.361Z"
   },
   {
    "duration": 20,
    "start_time": "2023-08-30T17:55:45.367Z"
   },
   {
    "duration": 12,
    "start_time": "2023-08-30T17:55:45.389Z"
   },
   {
    "duration": 1320,
    "start_time": "2023-08-30T17:55:45.403Z"
   },
   {
    "duration": 4,
    "start_time": "2023-08-30T17:55:46.724Z"
   },
   {
    "duration": 17,
    "start_time": "2023-08-30T17:55:46.729Z"
   },
   {
    "duration": 22,
    "start_time": "2023-08-30T17:55:46.748Z"
   },
   {
    "duration": 48,
    "start_time": "2023-08-30T17:55:46.771Z"
   },
   {
    "duration": 13,
    "start_time": "2023-08-30T17:55:46.821Z"
   },
   {
    "duration": 3947,
    "start_time": "2023-08-30T17:55:46.835Z"
   },
   {
    "duration": 1418,
    "start_time": "2023-08-30T17:55:50.784Z"
   },
   {
    "duration": 1796,
    "start_time": "2023-08-30T17:55:52.205Z"
   },
   {
    "duration": 611,
    "start_time": "2023-08-30T17:55:54.003Z"
   },
   {
    "duration": 3,
    "start_time": "2023-08-30T17:55:54.617Z"
   },
   {
    "duration": 140,
    "start_time": "2023-08-30T17:55:54.621Z"
   },
   {
    "duration": 0,
    "start_time": "2023-08-30T17:55:54.763Z"
   },
   {
    "duration": 0,
    "start_time": "2023-08-30T17:55:54.766Z"
   },
   {
    "duration": 1,
    "start_time": "2023-08-30T17:55:54.767Z"
   },
   {
    "duration": 0,
    "start_time": "2023-08-30T17:55:54.768Z"
   },
   {
    "duration": 0,
    "start_time": "2023-08-30T17:55:54.769Z"
   },
   {
    "duration": 0,
    "start_time": "2023-08-30T17:55:54.770Z"
   },
   {
    "duration": 0,
    "start_time": "2023-08-30T17:55:54.772Z"
   },
   {
    "duration": 0,
    "start_time": "2023-08-30T17:55:54.773Z"
   },
   {
    "duration": 0,
    "start_time": "2023-08-30T17:55:54.774Z"
   },
   {
    "duration": 34,
    "start_time": "2023-08-30T17:56:08.334Z"
   },
   {
    "duration": 42,
    "start_time": "2023-08-30T18:04:34.326Z"
   },
   {
    "duration": 375,
    "start_time": "2023-08-30T18:10:25.663Z"
   },
   {
    "duration": 94,
    "start_time": "2023-08-30T18:10:39.074Z"
   },
   {
    "duration": 121,
    "start_time": "2023-08-30T18:12:37.642Z"
   }
  ],
  "kernelspec": {
   "display_name": "Python 3 (ipykernel)",
   "language": "python",
   "name": "python3"
  },
  "language_info": {
   "codemirror_mode": {
    "name": "ipython",
    "version": 3
   },
   "file_extension": ".py",
   "mimetype": "text/x-python",
   "name": "python",
   "nbconvert_exporter": "python",
   "pygments_lexer": "ipython3",
   "version": "3.9.12"
  },
  "toc": {
   "base_numbering": 1,
   "nav_menu": {},
   "number_sections": true,
   "sideBar": true,
   "skip_h1_title": true,
   "title_cell": "Table of Contents",
   "title_sidebar": "Contents",
   "toc_cell": false,
   "toc_position": {
    "height": "calc(100% - 180px)",
    "left": "10px",
    "top": "150px",
    "width": "294.237px"
   },
   "toc_section_display": true,
   "toc_window_display": false
  }
 },
 "nbformat": 4,
 "nbformat_minor": 2
}
