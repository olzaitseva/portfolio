{
 "cells": [
  {
   "cell_type": "markdown",
   "id": "94724fa4",
   "metadata": {},
   "source": [
    "# Исследование опроса клиентов телекомунникационной компании"
   ]
  },
  {
   "cell_type": "code",
   "execution_count": 1,
   "id": "fc7efa54",
   "metadata": {},
   "outputs": [],
   "source": [
    "import os\n",
    "import pandas as pd\n",
    "import numpy as np\n",
    "\n",
    "from sqlalchemy import create_engine"
   ]
  },
  {
   "cell_type": "code",
   "execution_count": 2,
   "id": "0017f8e7",
   "metadata": {},
   "outputs": [],
   "source": [
    "path_to_db_local = 'C:\\\\Users\\\\Olga\\\\Desktop\\\\YP\\\\Tableau\\project2\\\\telecomm_csi.db'\n",
    "path_to_db_platform = '/datasets/telecomm_csi.db'\n",
    "path_to_db = None\n",
    "\n",
    "if os.path.exists(path_to_db_local):\n",
    "    path_to_db = path_to_db_local\n",
    "elif os.path.exists(path_to_db_platform):\n",
    "    path_to_db = path_to_db_platform\n",
    "else:\n",
    "    raise Exception('Файл с базой данных SQLite не найден!')\n",
    "\n",
    "if path_to_db:\n",
    "    engine = create_engine(f'sqlite:///{path_to_db}', echo=False)"
   ]
  },
  {
   "cell_type": "code",
   "execution_count": 1,
   "id": "04d45fb6",
   "metadata": {},
   "outputs": [],
   "source": [
    "query = \"\"\"\n",
    "        SELECT U.user_id, \n",
    "            U.lt_day, \n",
    "                CASE \n",
    "                    WHEN U.lt_day<= 365 THEN 'да'\n",
    "                    ELSE 'нет'\n",
    "                END AS is_new, \n",
    "            U.age, \n",
    "            CAST (U.gender_segment AS varchar) AS gender_segment, \n",
    "            U.os_name, \n",
    "            U.cpe_type_name,\n",
    "            L.country, \n",
    "            L.city, \n",
    "            SUBSTR (A.title, 4, 8) AS age_segment, \n",
    "            SUBSTR (T.title, 4, 9) AS traffic_segment, \n",
    "            SUBSTR (LF.title, 4, 9) AS lifetime_segment, \n",
    "            U.nps_score,\n",
    "                CASE \n",
    "                    WHEN U.nps_score>=9 THEN 'cторонники'\n",
    "                    WHEN U.nps_score>=7 THEN 'нейтралы'\n",
    "                    ELSE 'критики'\n",
    "                END AS nps_group\n",
    "        FROM user U\n",
    "        INNER JOIN  location L ON U.location_id=L.location_id\n",
    "        INNER JOIN age_segment A ON U.age_gr_id=A.age_gr_id\n",
    "        INNER JOIN traffic_segment T ON U.tr_gr_id=T.tr_gr_id\n",
    "        INNER JOIN lifetime_segment LF ON U.lt_gr_id=LF.lt_gr_id\n",
    "\"\"\""
   ]
  },
  {
   "cell_type": "code",
   "execution_count": 5,
   "id": "3965faf2",
   "metadata": {},
   "outputs": [
    {
     "data": {
      "text/html": [
       "<div>\n",
       "<style scoped>\n",
       "    .dataframe tbody tr th:only-of-type {\n",
       "        vertical-align: middle;\n",
       "    }\n",
       "\n",
       "    .dataframe tbody tr th {\n",
       "        vertical-align: top;\n",
       "    }\n",
       "\n",
       "    .dataframe thead th {\n",
       "        text-align: right;\n",
       "    }\n",
       "</style>\n",
       "<table border=\"1\" class=\"dataframe\">\n",
       "  <thead>\n",
       "    <tr style=\"text-align: right;\">\n",
       "      <th></th>\n",
       "      <th>user_id</th>\n",
       "      <th>lt_day</th>\n",
       "      <th>is_new</th>\n",
       "      <th>age</th>\n",
       "      <th>gender_segment</th>\n",
       "      <th>os_name</th>\n",
       "      <th>cpe_type_name</th>\n",
       "      <th>country</th>\n",
       "      <th>city</th>\n",
       "      <th>age_segment</th>\n",
       "      <th>traffic_segment</th>\n",
       "      <th>lifetime_segment</th>\n",
       "      <th>nps_score</th>\n",
       "      <th>nps_group</th>\n",
       "    </tr>\n",
       "  </thead>\n",
       "  <tbody>\n",
       "    <tr>\n",
       "      <th>0</th>\n",
       "      <td>A001A2</td>\n",
       "      <td>2320</td>\n",
       "      <td>нет</td>\n",
       "      <td>45.0</td>\n",
       "      <td>1.0</td>\n",
       "      <td>ANDROID</td>\n",
       "      <td>SMARTPHONE</td>\n",
       "      <td>Россия</td>\n",
       "      <td>Уфа</td>\n",
       "      <td>45-54</td>\n",
       "      <td>1-5</td>\n",
       "      <td>36+</td>\n",
       "      <td>10</td>\n",
       "      <td>cторонники</td>\n",
       "    </tr>\n",
       "    <tr>\n",
       "      <th>1</th>\n",
       "      <td>A001WF</td>\n",
       "      <td>2344</td>\n",
       "      <td>нет</td>\n",
       "      <td>53.0</td>\n",
       "      <td>0.0</td>\n",
       "      <td>ANDROID</td>\n",
       "      <td>SMARTPHONE</td>\n",
       "      <td>Россия</td>\n",
       "      <td>Киров</td>\n",
       "      <td>45-54</td>\n",
       "      <td>1-5</td>\n",
       "      <td>36+</td>\n",
       "      <td>10</td>\n",
       "      <td>cторонники</td>\n",
       "    </tr>\n",
       "    <tr>\n",
       "      <th>2</th>\n",
       "      <td>A003Q7</td>\n",
       "      <td>467</td>\n",
       "      <td>нет</td>\n",
       "      <td>57.0</td>\n",
       "      <td>0.0</td>\n",
       "      <td>ANDROID</td>\n",
       "      <td>SMARTPHONE</td>\n",
       "      <td>Россия</td>\n",
       "      <td>Москва</td>\n",
       "      <td>55-64</td>\n",
       "      <td>20-25</td>\n",
       "      <td>13-24</td>\n",
       "      <td>10</td>\n",
       "      <td>cторонники</td>\n",
       "    </tr>\n",
       "  </tbody>\n",
       "</table>\n",
       "</div>"
      ],
      "text/plain": [
       "  user_id  lt_day is_new   age gender_segment  os_name cpe_type_name country  \\\n",
       "0  A001A2    2320    нет  45.0            1.0  ANDROID    SMARTPHONE  Россия   \n",
       "1  A001WF    2344    нет  53.0            0.0  ANDROID    SMARTPHONE  Россия   \n",
       "2  A003Q7     467    нет  57.0            0.0  ANDROID    SMARTPHONE  Россия   \n",
       "\n",
       "     city age_segment traffic_segment lifetime_segment  nps_score   nps_group  \n",
       "0     Уфа       45-54             1-5              36+         10  cторонники  \n",
       "1   Киров       45-54             1-5              36+         10  cторонники  \n",
       "2  Москва       55-64           20-25            13-24         10  cторонники  "
      ]
     },
     "execution_count": 5,
     "metadata": {},
     "output_type": "execute_result"
    }
   ],
   "source": [
    "df = pd.read_sql(query, engine)\n",
    "df.head(3)"
   ]
  },
  {
   "cell_type": "code",
   "execution_count": 6,
   "id": "9db04858",
   "metadata": {},
   "outputs": [],
   "source": [
    "df.to_csv('telecomm_csi_tableau.csv', index=False)"
   ]
  },
  {
   "cell_type": "code",
   "execution_count": 7,
   "id": "7d0ba7d7",
   "metadata": {},
   "outputs": [
    {
     "name": "stdout",
     "output_type": "stream",
     "text": [
      "<class 'pandas.core.frame.DataFrame'>\n",
      "RangeIndex: 502493 entries, 0 to 502492\n",
      "Data columns (total 14 columns):\n",
      " #   Column            Non-Null Count   Dtype  \n",
      "---  ------            --------------   -----  \n",
      " 0   user_id           502493 non-null  object \n",
      " 1   lt_day            502493 non-null  int64  \n",
      " 2   is_new            502493 non-null  object \n",
      " 3   age               501939 non-null  float64\n",
      " 4   gender_segment    501192 non-null  object \n",
      " 5   os_name           502493 non-null  object \n",
      " 6   cpe_type_name     502493 non-null  object \n",
      " 7   country           502493 non-null  object \n",
      " 8   city              502493 non-null  object \n",
      " 9   age_segment       502493 non-null  object \n",
      " 10  traffic_segment   502493 non-null  object \n",
      " 11  lifetime_segment  502493 non-null  object \n",
      " 12  nps_score         502493 non-null  int64  \n",
      " 13  nps_group         502493 non-null  object \n",
      "dtypes: float64(1), int64(2), object(11)\n",
      "memory usage: 53.7+ MB\n"
     ]
    }
   ],
   "source": [
    "df.info()"
   ]
  },
  {
   "cell_type": "code",
   "execution_count": 8,
   "id": "7f52f963",
   "metadata": {},
   "outputs": [
    {
     "data": {
      "text/plain": [
       "array(['1.0', '0.0', None], dtype=object)"
      ]
     },
     "execution_count": 8,
     "metadata": {},
     "output_type": "execute_result"
    }
   ],
   "source": [
    "df['gender_segment'].unique()"
   ]
  },
  {
   "cell_type": "code",
   "execution_count": 9,
   "id": "354e9271",
   "metadata": {},
   "outputs": [
    {
     "data": {
      "text/plain": [
       "array(['ANDROID', 'IOS', 'OTHER', 'unknown', 'PROPRIETARY',\n",
       "       'WINDOWS PHONE', 'SYMBIAN OS', 'BADA OS', 'WINDOWS MOBILE'],\n",
       "      dtype=object)"
      ]
     },
     "execution_count": 9,
     "metadata": {},
     "output_type": "execute_result"
    }
   ],
   "source": [
    "df['os_name'].unique()"
   ]
  },
  {
   "cell_type": "code",
   "execution_count": 10,
   "id": "0521dce6",
   "metadata": {},
   "outputs": [
    {
     "data": {
      "text/plain": [
       "array(['SMARTPHONE', 'TABLET', 'MOBILE PHONE/FEATURE PHONE', 'PHONE',\n",
       "       'ROUTER', 'MODEM', 'WLAN ROUTER', 'USB MODEM', 'unknown',\n",
       "       'PORTABLE(INCLUDE PDA)', 'NETWORK DEVICE', 'MIFI ROUTER',\n",
       "       'MOBILE TEST PLATFORM', 'HANDHELD'], dtype=object)"
      ]
     },
     "execution_count": 10,
     "metadata": {},
     "output_type": "execute_result"
    }
   ],
   "source": [
    "df['cpe_type_name'].unique()"
   ]
  },
  {
   "cell_type": "code",
   "execution_count": 11,
   "id": "d6cdde28",
   "metadata": {},
   "outputs": [
    {
     "data": {
      "text/plain": [
       "array(['Россия'], dtype=object)"
      ]
     },
     "execution_count": 11,
     "metadata": {},
     "output_type": "execute_result"
    }
   ],
   "source": [
    "df['country'].unique()"
   ]
  },
  {
   "cell_type": "code",
   "execution_count": 12,
   "id": "04a8f8c0",
   "metadata": {},
   "outputs": [
    {
     "data": {
      "text/plain": [
       "array(['Уфа', 'Киров', 'Москва', 'РостовнаДону', 'Рязань', 'Омск',\n",
       "       'СанктПетербург', 'Волгоград', 'Тольятти', 'Казань', 'Самара',\n",
       "       'Красноярск', 'Екатеринбург', 'Калуга', 'Краснодар', 'Иркутск',\n",
       "       'Пермь', 'Владимир', 'Ижевск', 'Тюмень', 'Оренбург',\n",
       "       'НижнийНовгород', 'Брянск', 'Челябинск', 'Астрахань', 'Сургут',\n",
       "       'Тверь', 'Новосибирск', 'НабережныеЧелны', 'Махачкала', 'Воронеж',\n",
       "       'Курск', 'Владивосток', 'Балашиха', 'Пенза', 'Калининград', 'Тула',\n",
       "       'Саратов', 'Кемерово', 'Белгород', 'Барнаул', 'Чебоксары',\n",
       "       'Архангельск', 'Томск', 'Ярославль', 'Ульяновск', 'Хабаровск',\n",
       "       'Грозный', 'Ставрополь', 'Липецк', 'Новокузнецк', 'Якутск',\n",
       "       'УланУдэ', 'Сочи', 'Иваново', 'НижнийТагил', 'Смоленск',\n",
       "       'Волжский', 'Магнитогорск', 'Чита', 'Череповец', 'Саранск'],\n",
       "      dtype=object)"
      ]
     },
     "execution_count": 12,
     "metadata": {},
     "output_type": "execute_result"
    }
   ],
   "source": [
    "df['city'].unique()"
   ]
  },
  {
   "cell_type": "code",
   "execution_count": 13,
   "id": "e4f47b87",
   "metadata": {},
   "outputs": [
    {
     "data": {
      "text/plain": [
       "array(['45-54', '55-64', '35-44', '16-24', '25-34', '66 +', 'до 16',\n",
       "       'n/a'], dtype=object)"
      ]
     },
     "execution_count": 13,
     "metadata": {},
     "output_type": "execute_result"
    }
   ],
   "source": [
    "df['age_segment'].unique()"
   ]
  },
  {
   "cell_type": "code",
   "execution_count": 14,
   "id": "9c170d09",
   "metadata": {},
   "outputs": [
    {
     "data": {
      "text/plain": [
       "array(['1-5', '20-25', '0.1-1', '5-10', '10-15', '45-50', '15-20',\n",
       "       '25-30', '40-45', '75-80', '50-55', '85-90', '60-65', '70-75',\n",
       "       '30-35', '80-85', '100+', '35-40', '55-60', '90-95', '65-70',\n",
       "       '0.01-0.1', '95-100', '0-0.01', '0'], dtype=object)"
      ]
     },
     "execution_count": 14,
     "metadata": {},
     "output_type": "execute_result"
    }
   ],
   "source": [
    "df['traffic_segment'].unique()"
   ]
  },
  {
   "cell_type": "code",
   "execution_count": 15,
   "id": "a9c46710",
   "metadata": {},
   "outputs": [
    {
     "data": {
      "text/plain": [
       "array(['36+', '13-24', '7-12', '4-6', '25-36', '2', '3', '1'],\n",
       "      dtype=object)"
      ]
     },
     "execution_count": 15,
     "metadata": {},
     "output_type": "execute_result"
    }
   ],
   "source": [
    "df['lifetime_segment'].unique()"
   ]
  },
  {
   "cell_type": "code",
   "execution_count": 16,
   "id": "78340e40",
   "metadata": {},
   "outputs": [
    {
     "data": {
      "text/plain": [
       "array([10,  6,  9,  2,  5,  8,  1,  4,  7,  3])"
      ]
     },
     "execution_count": 16,
     "metadata": {},
     "output_type": "execute_result"
    }
   ],
   "source": [
    "df['nps_score'].unique()"
   ]
  },
  {
   "cell_type": "code",
   "execution_count": 17,
   "id": "871db95e",
   "metadata": {},
   "outputs": [
    {
     "data": {
      "text/html": [
       "<div>\n",
       "<style scoped>\n",
       "    .dataframe tbody tr th:only-of-type {\n",
       "        vertical-align: middle;\n",
       "    }\n",
       "\n",
       "    .dataframe tbody tr th {\n",
       "        vertical-align: top;\n",
       "    }\n",
       "\n",
       "    .dataframe thead th {\n",
       "        text-align: right;\n",
       "    }\n",
       "</style>\n",
       "<table border=\"1\" class=\"dataframe\">\n",
       "  <thead>\n",
       "    <tr style=\"text-align: right;\">\n",
       "      <th></th>\n",
       "      <th>lt_day</th>\n",
       "      <th>age</th>\n",
       "      <th>nps_score</th>\n",
       "    </tr>\n",
       "  </thead>\n",
       "  <tbody>\n",
       "    <tr>\n",
       "      <th>count</th>\n",
       "      <td>502493.000000</td>\n",
       "      <td>501939.000000</td>\n",
       "      <td>502493.000000</td>\n",
       "    </tr>\n",
       "    <tr>\n",
       "      <th>mean</th>\n",
       "      <td>1868.841439</td>\n",
       "      <td>39.621946</td>\n",
       "      <td>7.508562</td>\n",
       "    </tr>\n",
       "    <tr>\n",
       "      <th>std</th>\n",
       "      <td>1683.701762</td>\n",
       "      <td>11.188249</td>\n",
       "      <td>3.020378</td>\n",
       "    </tr>\n",
       "    <tr>\n",
       "      <th>min</th>\n",
       "      <td>-21.000000</td>\n",
       "      <td>10.000000</td>\n",
       "      <td>1.000000</td>\n",
       "    </tr>\n",
       "    <tr>\n",
       "      <th>25%</th>\n",
       "      <td>533.000000</td>\n",
       "      <td>31.000000</td>\n",
       "      <td>5.000000</td>\n",
       "    </tr>\n",
       "    <tr>\n",
       "      <th>50%</th>\n",
       "      <td>1239.000000</td>\n",
       "      <td>38.000000</td>\n",
       "      <td>9.000000</td>\n",
       "    </tr>\n",
       "    <tr>\n",
       "      <th>75%</th>\n",
       "      <td>3064.000000</td>\n",
       "      <td>47.000000</td>\n",
       "      <td>10.000000</td>\n",
       "    </tr>\n",
       "    <tr>\n",
       "      <th>max</th>\n",
       "      <td>9162.000000</td>\n",
       "      <td>89.000000</td>\n",
       "      <td>10.000000</td>\n",
       "    </tr>\n",
       "  </tbody>\n",
       "</table>\n",
       "</div>"
      ],
      "text/plain": [
       "              lt_day            age      nps_score\n",
       "count  502493.000000  501939.000000  502493.000000\n",
       "mean     1868.841439      39.621946       7.508562\n",
       "std      1683.701762      11.188249       3.020378\n",
       "min       -21.000000      10.000000       1.000000\n",
       "25%       533.000000      31.000000       5.000000\n",
       "50%      1239.000000      38.000000       9.000000\n",
       "75%      3064.000000      47.000000      10.000000\n",
       "max      9162.000000      89.000000      10.000000"
      ]
     },
     "execution_count": 17,
     "metadata": {},
     "output_type": "execute_result"
    }
   ],
   "source": [
    "df.describe()"
   ]
  },
  {
   "cell_type": "markdown",
   "id": "8f4eaff6",
   "metadata": {},
   "source": [
    "Ссылка на дашборд: https://public.tableau.com/app/profile/olga5799/viz/NPS_dashbord_/sheet0?publish=yes\n",
    "\n",
    "Презентация(Story): https://public.tableau.com/app/profile/olga5799/viz/NPS_story/Story?publish=yes"
   ]
  }
 ],
 "metadata": {
  "ExecuteTimeLog": [
   {
    "duration": 627,
    "start_time": "2023-03-06T07:28:58.071Z"
   },
   {
    "duration": 91,
    "start_time": "2023-03-06T07:28:58.700Z"
   },
   {
    "duration": 3,
    "start_time": "2023-03-06T07:28:58.794Z"
   },
   {
    "duration": 519,
    "start_time": "2023-03-06T07:28:58.800Z"
   },
   {
    "duration": 0,
    "start_time": "2023-03-06T07:28:59.322Z"
   },
   {
    "duration": 511,
    "start_time": "2023-03-06T07:36:25.386Z"
   },
   {
    "duration": 54,
    "start_time": "2023-03-06T07:36:25.899Z"
   },
   {
    "duration": 3,
    "start_time": "2023-03-06T07:36:25.954Z"
   },
   {
    "duration": 679,
    "start_time": "2023-03-06T07:36:25.959Z"
   },
   {
    "duration": 0,
    "start_time": "2023-03-06T07:36:26.641Z"
   },
   {
    "duration": 528,
    "start_time": "2023-03-06T07:38:05.920Z"
   },
   {
    "duration": 55,
    "start_time": "2023-03-06T07:38:06.450Z"
   },
   {
    "duration": 3,
    "start_time": "2023-03-06T07:38:06.507Z"
   },
   {
    "duration": 686,
    "start_time": "2023-03-06T07:38:06.512Z"
   },
   {
    "duration": 0,
    "start_time": "2023-03-06T07:38:07.200Z"
   },
   {
    "duration": 557,
    "start_time": "2023-03-06T07:44:37.074Z"
   },
   {
    "duration": 53,
    "start_time": "2023-03-06T07:44:37.633Z"
   },
   {
    "duration": 0,
    "start_time": "2023-03-06T07:44:37.688Z"
   },
   {
    "duration": 0,
    "start_time": "2023-03-06T07:44:37.689Z"
   },
   {
    "duration": 0,
    "start_time": "2023-03-06T07:44:37.691Z"
   },
   {
    "duration": 530,
    "start_time": "2023-03-06T08:15:42.301Z"
   },
   {
    "duration": 65,
    "start_time": "2023-03-06T08:15:42.834Z"
   },
   {
    "duration": 4,
    "start_time": "2023-03-06T08:15:42.901Z"
   },
   {
    "duration": 730,
    "start_time": "2023-03-06T08:15:42.907Z"
   },
   {
    "duration": 0,
    "start_time": "2023-03-06T08:15:43.639Z"
   },
   {
    "duration": 585,
    "start_time": "2023-03-06T08:31:53.653Z"
   },
   {
    "duration": 60,
    "start_time": "2023-03-06T08:31:54.240Z"
   },
   {
    "duration": 5,
    "start_time": "2023-03-06T08:31:54.302Z"
   },
   {
    "duration": 737,
    "start_time": "2023-03-06T08:31:54.308Z"
   },
   {
    "duration": 0,
    "start_time": "2023-03-06T08:31:55.047Z"
   },
   {
    "duration": 2,
    "start_time": "2023-03-06T08:32:53.710Z"
   },
   {
    "duration": 750,
    "start_time": "2023-03-06T08:35:20.416Z"
   },
   {
    "duration": 3,
    "start_time": "2023-03-06T08:49:38.683Z"
   },
   {
    "duration": 686,
    "start_time": "2023-03-06T08:49:40.698Z"
   },
   {
    "duration": 5,
    "start_time": "2023-03-06T09:20:05.391Z"
   },
   {
    "duration": 4,
    "start_time": "2023-03-06T09:20:58.635Z"
   },
   {
    "duration": 7,
    "start_time": "2023-03-06T09:21:22.985Z"
   },
   {
    "duration": 3,
    "start_time": "2023-03-06T09:21:30.937Z"
   },
   {
    "duration": 426,
    "start_time": "2023-03-06T09:21:38.503Z"
   },
   {
    "duration": 3,
    "start_time": "2023-03-06T09:22:06.510Z"
   },
   {
    "duration": 6878,
    "start_time": "2023-03-06T09:22:07.926Z"
   },
   {
    "duration": 7012,
    "start_time": "2023-03-06T09:22:14.806Z"
   },
   {
    "duration": 4,
    "start_time": "2023-03-06T09:22:33.405Z"
   },
   {
    "duration": 4,
    "start_time": "2023-03-06T09:22:41.515Z"
   },
   {
    "duration": 541,
    "start_time": "2023-03-06T09:22:42.401Z"
   },
   {
    "duration": 6257,
    "start_time": "2023-03-06T09:22:47.184Z"
   },
   {
    "duration": 9,
    "start_time": "2023-03-06T09:23:44.181Z"
   },
   {
    "duration": 6242,
    "start_time": "2023-03-06T09:23:44.893Z"
   },
   {
    "duration": 7573,
    "start_time": "2023-03-06T09:23:51.137Z"
   },
   {
    "duration": 550,
    "start_time": "2023-03-06T09:26:27.902Z"
   },
   {
    "duration": 83,
    "start_time": "2023-03-06T09:26:28.463Z"
   },
   {
    "duration": 14,
    "start_time": "2023-03-06T09:26:28.548Z"
   },
   {
    "duration": 7046,
    "start_time": "2023-03-06T09:26:28.567Z"
   },
   {
    "duration": 7193,
    "start_time": "2023-03-06T09:26:35.616Z"
   },
   {
    "duration": 80,
    "start_time": "2023-03-06T09:33:50.509Z"
   },
   {
    "duration": 63,
    "start_time": "2023-03-06T09:33:59.507Z"
   },
   {
    "duration": 604,
    "start_time": "2023-03-06T10:06:07.613Z"
   },
   {
    "duration": 94,
    "start_time": "2023-03-06T10:06:08.220Z"
   },
   {
    "duration": 4,
    "start_time": "2023-03-06T10:06:08.316Z"
   },
   {
    "duration": 6867,
    "start_time": "2023-03-06T10:06:08.322Z"
   },
   {
    "duration": 7217,
    "start_time": "2023-03-06T10:06:15.198Z"
   },
   {
    "duration": 569,
    "start_time": "2023-03-06T10:07:36.923Z"
   },
   {
    "duration": 16,
    "start_time": "2023-03-06T10:08:40.217Z"
   },
   {
    "duration": 114,
    "start_time": "2023-03-06T10:08:48.431Z"
   },
   {
    "duration": 21,
    "start_time": "2023-03-06T10:09:01.653Z"
   },
   {
    "duration": 143,
    "start_time": "2023-03-06T10:09:12.727Z"
   },
   {
    "duration": 148,
    "start_time": "2023-03-06T10:09:32.230Z"
   },
   {
    "duration": 110,
    "start_time": "2023-03-06T10:09:51.029Z"
   },
   {
    "duration": 168,
    "start_time": "2023-03-06T10:10:04.120Z"
   },
   {
    "duration": 214,
    "start_time": "2023-03-06T10:10:16.837Z"
   },
   {
    "duration": 146,
    "start_time": "2023-03-06T10:10:38.251Z"
   },
   {
    "duration": 140,
    "start_time": "2023-03-06T10:10:52.353Z"
   },
   {
    "duration": 159,
    "start_time": "2023-03-06T10:11:07.947Z"
   },
   {
    "duration": 1230,
    "start_time": "2023-03-06T10:11:28.920Z"
   },
   {
    "duration": 166,
    "start_time": "2023-03-06T10:11:37.252Z"
   },
   {
    "duration": 158,
    "start_time": "2023-03-06T10:11:50.531Z"
   },
   {
    "duration": 159,
    "start_time": "2023-03-06T10:12:01.916Z"
   },
   {
    "duration": 142,
    "start_time": "2023-03-06T10:12:08.581Z"
   },
   {
    "duration": 129,
    "start_time": "2023-03-06T10:12:12.015Z"
   },
   {
    "duration": 149,
    "start_time": "2023-03-06T10:12:16.845Z"
   },
   {
    "duration": 142,
    "start_time": "2023-03-06T10:12:49.782Z"
   },
   {
    "duration": 148,
    "start_time": "2023-03-06T10:13:08.237Z"
   },
   {
    "duration": 9,
    "start_time": "2023-03-06T10:13:41.323Z"
   },
   {
    "duration": 8,
    "start_time": "2023-03-06T10:14:01.515Z"
   },
   {
    "duration": 184,
    "start_time": "2023-03-06T10:14:21.108Z"
   },
   {
    "duration": 116,
    "start_time": "2023-03-06T10:15:05.380Z"
   },
   {
    "duration": 1127,
    "start_time": "2023-03-07T08:57:24.317Z"
   },
   {
    "duration": 166,
    "start_time": "2023-03-07T08:57:25.447Z"
   },
   {
    "duration": 4,
    "start_time": "2023-03-07T08:57:25.615Z"
   },
   {
    "duration": 6644,
    "start_time": "2023-03-07T08:57:25.620Z"
   },
   {
    "duration": 5272,
    "start_time": "2023-03-07T08:57:32.265Z"
   },
   {
    "duration": 480,
    "start_time": "2023-03-07T08:57:37.538Z"
   },
   {
    "duration": 497,
    "start_time": "2023-03-07T08:57:38.020Z"
   },
   {
    "duration": 96,
    "start_time": "2023-03-07T08:57:38.519Z"
   },
   {
    "duration": 97,
    "start_time": "2023-03-07T08:57:38.617Z"
   },
   {
    "duration": 111,
    "start_time": "2023-03-07T08:57:38.716Z"
   },
   {
    "duration": 97,
    "start_time": "2023-03-07T08:57:38.828Z"
   },
   {
    "duration": 98,
    "start_time": "2023-03-07T08:57:38.927Z"
   },
   {
    "duration": 104,
    "start_time": "2023-03-07T08:57:39.027Z"
   },
   {
    "duration": 8,
    "start_time": "2023-03-07T08:57:39.133Z"
   },
   {
    "duration": 158,
    "start_time": "2023-03-07T08:57:39.143Z"
   },
   {
    "duration": 653,
    "start_time": "2023-03-07T08:58:48.537Z"
   },
   {
    "duration": 98,
    "start_time": "2023-03-07T08:58:49.192Z"
   },
   {
    "duration": 5,
    "start_time": "2023-03-07T08:58:49.292Z"
   },
   {
    "duration": 5559,
    "start_time": "2023-03-07T08:58:49.298Z"
   },
   {
    "duration": 5732,
    "start_time": "2023-03-07T08:58:54.868Z"
   },
   {
    "duration": 479,
    "start_time": "2023-03-07T08:59:00.602Z"
   },
   {
    "duration": 538,
    "start_time": "2023-03-07T08:59:01.084Z"
   },
   {
    "duration": 90,
    "start_time": "2023-03-07T08:59:01.624Z"
   },
   {
    "duration": 137,
    "start_time": "2023-03-07T08:59:01.715Z"
   },
   {
    "duration": 115,
    "start_time": "2023-03-07T08:59:01.868Z"
   },
   {
    "duration": 99,
    "start_time": "2023-03-07T08:59:01.985Z"
   },
   {
    "duration": 94,
    "start_time": "2023-03-07T08:59:02.085Z"
   },
   {
    "duration": 95,
    "start_time": "2023-03-07T08:59:02.180Z"
   },
   {
    "duration": 8,
    "start_time": "2023-03-07T08:59:02.280Z"
   },
   {
    "duration": 90,
    "start_time": "2023-03-07T08:59:02.289Z"
   },
   {
    "duration": 3,
    "start_time": "2023-03-07T09:08:12.410Z"
   },
   {
    "duration": 793,
    "start_time": "2023-03-07T09:08:14.826Z"
   },
   {
    "duration": 8,
    "start_time": "2023-03-07T09:08:44.280Z"
   },
   {
    "duration": 662,
    "start_time": "2023-03-07T09:08:46.013Z"
   },
   {
    "duration": 2,
    "start_time": "2023-03-07T09:09:05.881Z"
   },
   {
    "duration": 4,
    "start_time": "2023-03-07T09:09:12.079Z"
   },
   {
    "duration": 5629,
    "start_time": "2023-03-07T09:09:14.496Z"
   },
   {
    "duration": 515,
    "start_time": "2023-03-07T09:09:26.727Z"
   },
   {
    "duration": 5625,
    "start_time": "2023-03-07T09:09:31.514Z"
   },
   {
    "duration": 522,
    "start_time": "2023-03-07T09:09:37.141Z"
   },
   {
    "duration": 3,
    "start_time": "2023-03-07T09:10:12.625Z"
   },
   {
    "duration": 7279,
    "start_time": "2023-03-07T09:10:15.429Z"
   },
   {
    "duration": 1213,
    "start_time": "2023-03-07T09:10:32.231Z"
   },
   {
    "duration": 410,
    "start_time": "2023-03-07T09:10:33.446Z"
   },
   {
    "duration": 4,
    "start_time": "2023-03-07T09:10:33.858Z"
   },
   {
    "duration": 5860,
    "start_time": "2023-03-07T09:10:33.865Z"
   },
   {
    "duration": 6087,
    "start_time": "2023-03-07T09:10:39.727Z"
   },
   {
    "duration": 505,
    "start_time": "2023-03-07T09:10:45.817Z"
   },
   {
    "duration": 418,
    "start_time": "2023-03-07T09:10:46.324Z"
   },
   {
    "duration": 98,
    "start_time": "2023-03-07T09:10:46.743Z"
   },
   {
    "duration": 102,
    "start_time": "2023-03-07T09:10:46.843Z"
   },
   {
    "duration": 171,
    "start_time": "2023-03-07T09:10:46.947Z"
   },
   {
    "duration": 116,
    "start_time": "2023-03-07T09:10:47.124Z"
   },
   {
    "duration": 118,
    "start_time": "2023-03-07T09:10:47.243Z"
   },
   {
    "duration": 134,
    "start_time": "2023-03-07T09:10:47.363Z"
   },
   {
    "duration": 17,
    "start_time": "2023-03-07T09:10:47.509Z"
   },
   {
    "duration": 121,
    "start_time": "2023-03-07T09:10:47.528Z"
   },
   {
    "duration": 100,
    "start_time": "2023-03-07T09:11:36.756Z"
   },
   {
    "duration": 551,
    "start_time": "2023-03-10T04:59:18.512Z"
   },
   {
    "duration": 94,
    "start_time": "2023-03-10T04:59:19.065Z"
   },
   {
    "duration": 3,
    "start_time": "2023-03-10T04:59:19.160Z"
   },
   {
    "duration": 9161,
    "start_time": "2023-03-10T04:59:19.165Z"
   },
   {
    "duration": 7456,
    "start_time": "2023-03-10T04:59:28.327Z"
   },
   {
    "duration": 493,
    "start_time": "2023-03-10T04:59:35.785Z"
   },
   {
    "duration": 552,
    "start_time": "2023-03-10T04:59:36.280Z"
   },
   {
    "duration": 204,
    "start_time": "2023-03-10T04:59:36.836Z"
   },
   {
    "duration": 213,
    "start_time": "2023-03-10T04:59:37.042Z"
   },
   {
    "duration": 172,
    "start_time": "2023-03-10T04:59:37.258Z"
   },
   {
    "duration": 202,
    "start_time": "2023-03-10T04:59:37.439Z"
   },
   {
    "duration": 197,
    "start_time": "2023-03-10T04:59:37.644Z"
   },
   {
    "duration": 193,
    "start_time": "2023-03-10T04:59:37.843Z"
   },
   {
    "duration": 209,
    "start_time": "2023-03-10T04:59:38.040Z"
   },
   {
    "duration": 5,
    "start_time": "2023-03-10T04:59:38.251Z"
   },
   {
    "duration": 166,
    "start_time": "2023-03-10T04:59:38.258Z"
   },
   {
    "duration": 518,
    "start_time": "2023-03-10T11:47:23.469Z"
   },
   {
    "duration": 91,
    "start_time": "2023-03-10T11:47:23.990Z"
   },
   {
    "duration": 3,
    "start_time": "2023-03-10T11:47:24.083Z"
   },
   {
    "duration": 6105,
    "start_time": "2023-03-10T11:47:24.088Z"
   },
   {
    "duration": 5008,
    "start_time": "2023-03-10T11:47:30.195Z"
   },
   {
    "duration": 589,
    "start_time": "2023-03-10T11:47:35.206Z"
   },
   {
    "duration": 389,
    "start_time": "2023-03-10T11:47:35.797Z"
   },
   {
    "duration": 123,
    "start_time": "2023-03-10T11:47:36.188Z"
   },
   {
    "duration": 100,
    "start_time": "2023-03-10T11:47:36.313Z"
   },
   {
    "duration": 95,
    "start_time": "2023-03-10T11:47:36.415Z"
   },
   {
    "duration": 114,
    "start_time": "2023-03-10T11:47:36.511Z"
   },
   {
    "duration": 105,
    "start_time": "2023-03-10T11:47:36.627Z"
   },
   {
    "duration": 104,
    "start_time": "2023-03-10T11:47:36.734Z"
   },
   {
    "duration": 104,
    "start_time": "2023-03-10T11:47:36.840Z"
   },
   {
    "duration": 12,
    "start_time": "2023-03-10T11:47:36.946Z"
   },
   {
    "duration": 76,
    "start_time": "2023-03-10T11:47:36.960Z"
   },
   {
    "duration": 3,
    "start_time": "2023-03-10T11:48:12.410Z"
   },
   {
    "duration": 96,
    "start_time": "2023-03-10T11:48:21.749Z"
   },
   {
    "duration": 3,
    "start_time": "2023-03-10T11:48:54.858Z"
   },
   {
    "duration": 95,
    "start_time": "2023-03-10T11:49:01.112Z"
   },
   {
    "duration": 3,
    "start_time": "2023-03-10T11:51:54.524Z"
   },
   {
    "duration": 5428,
    "start_time": "2023-03-10T11:51:58.739Z"
   },
   {
    "duration": 4360,
    "start_time": "2023-03-10T11:52:04.169Z"
   },
   {
    "duration": 506,
    "start_time": "2023-03-10T18:23:29.645Z"
   },
   {
    "duration": 101,
    "start_time": "2023-03-10T18:23:30.153Z"
   },
   {
    "duration": 4,
    "start_time": "2023-03-10T18:23:30.256Z"
   },
   {
    "duration": 5918,
    "start_time": "2023-03-10T18:23:30.262Z"
   },
   {
    "duration": 5007,
    "start_time": "2023-03-10T18:23:36.189Z"
   },
   {
    "duration": 501,
    "start_time": "2023-03-10T18:23:41.198Z"
   },
   {
    "duration": 555,
    "start_time": "2023-03-10T18:23:41.700Z"
   },
   {
    "duration": 99,
    "start_time": "2023-03-10T18:23:42.258Z"
   },
   {
    "duration": 89,
    "start_time": "2023-03-10T18:23:42.359Z"
   },
   {
    "duration": 91,
    "start_time": "2023-03-10T18:23:42.451Z"
   },
   {
    "duration": 96,
    "start_time": "2023-03-10T18:23:42.544Z"
   },
   {
    "duration": 91,
    "start_time": "2023-03-10T18:23:42.642Z"
   },
   {
    "duration": 99,
    "start_time": "2023-03-10T18:23:42.735Z"
   },
   {
    "duration": 98,
    "start_time": "2023-03-10T18:23:42.835Z"
   },
   {
    "duration": 6,
    "start_time": "2023-03-10T18:23:42.934Z"
   },
   {
    "duration": 82,
    "start_time": "2023-03-10T18:23:42.941Z"
   },
   {
    "duration": 3,
    "start_time": "2023-03-10T18:24:45.698Z"
   },
   {
    "duration": 4911,
    "start_time": "2023-03-10T18:24:48.298Z"
   },
   {
    "duration": 3,
    "start_time": "2023-03-10T18:25:28.417Z"
   },
   {
    "duration": 5168,
    "start_time": "2023-03-10T18:25:35.430Z"
   },
   {
    "duration": 100,
    "start_time": "2023-03-10T18:25:51.495Z"
   },
   {
    "duration": 3,
    "start_time": "2023-03-10T18:26:18.151Z"
   },
   {
    "duration": 5096,
    "start_time": "2023-03-10T18:26:20.701Z"
   },
   {
    "duration": 96,
    "start_time": "2023-03-10T18:26:30.763Z"
   },
   {
    "duration": 3,
    "start_time": "2023-03-10T18:29:18.020Z"
   },
   {
    "duration": 6073,
    "start_time": "2023-03-10T18:29:23.455Z"
   },
   {
    "duration": 7,
    "start_time": "2023-03-10T18:30:04.798Z"
   },
   {
    "duration": 5247,
    "start_time": "2023-03-10T18:30:06.562Z"
   },
   {
    "duration": 95,
    "start_time": "2023-03-10T18:30:25.711Z"
   },
   {
    "duration": 133,
    "start_time": "2023-03-10T18:30:47.476Z"
   },
   {
    "duration": 3,
    "start_time": "2023-03-10T18:31:36.505Z"
   },
   {
    "duration": 951,
    "start_time": "2023-03-10T18:31:38.777Z"
   },
   {
    "duration": 759,
    "start_time": "2023-03-10T18:31:53.319Z"
   },
   {
    "duration": 4,
    "start_time": "2023-03-10T18:31:56.907Z"
   },
   {
    "duration": 5361,
    "start_time": "2023-03-10T18:31:58.609Z"
   },
   {
    "duration": 518,
    "start_time": "2023-03-11T03:59:21.719Z"
   },
   {
    "duration": 93,
    "start_time": "2023-03-11T03:59:22.239Z"
   },
   {
    "duration": 2,
    "start_time": "2023-03-11T03:59:22.334Z"
   },
   {
    "duration": 5,
    "start_time": "2023-03-11T03:59:22.338Z"
   },
   {
    "duration": 5325,
    "start_time": "2023-03-11T03:59:22.344Z"
   },
   {
    "duration": 4142,
    "start_time": "2023-03-11T03:59:27.671Z"
   },
   {
    "duration": 473,
    "start_time": "2023-03-11T03:59:31.815Z"
   },
   {
    "duration": 642,
    "start_time": "2023-03-11T03:59:32.290Z"
   },
   {
    "duration": 135,
    "start_time": "2023-03-11T03:59:32.934Z"
   },
   {
    "duration": 103,
    "start_time": "2023-03-11T03:59:33.071Z"
   },
   {
    "duration": 77,
    "start_time": "2023-03-11T03:59:33.176Z"
   },
   {
    "duration": 104,
    "start_time": "2023-03-11T03:59:33.255Z"
   },
   {
    "duration": 97,
    "start_time": "2023-03-11T03:59:33.360Z"
   },
   {
    "duration": 96,
    "start_time": "2023-03-11T03:59:33.459Z"
   },
   {
    "duration": 101,
    "start_time": "2023-03-11T03:59:33.556Z"
   },
   {
    "duration": 6,
    "start_time": "2023-03-11T03:59:33.658Z"
   },
   {
    "duration": 78,
    "start_time": "2023-03-11T03:59:33.665Z"
   },
   {
    "duration": 75,
    "start_time": "2023-03-11T18:05:41.377Z"
   }
  ],
  "kernelspec": {
   "display_name": "Python 3 (ipykernel)",
   "language": "python",
   "name": "python3"
  },
  "language_info": {
   "codemirror_mode": {
    "name": "ipython",
    "version": 3
   },
   "file_extension": ".py",
   "mimetype": "text/x-python",
   "name": "python",
   "nbconvert_exporter": "python",
   "pygments_lexer": "ipython3",
   "version": "3.9.12"
  },
  "toc": {
   "base_numbering": 1,
   "nav_menu": {},
   "number_sections": true,
   "sideBar": true,
   "skip_h1_title": true,
   "title_cell": "Table of Contents",
   "title_sidebar": "Contents",
   "toc_cell": false,
   "toc_position": {},
   "toc_section_display": true,
   "toc_window_display": false
  }
 },
 "nbformat": 4,
 "nbformat_minor": 5
}
